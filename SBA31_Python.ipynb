{
  "nbformat": 4,
  "nbformat_minor": 0,
  "metadata": {
    "colab": {
      "name": "SBA31_Python.ipynb",
      "provenance": [],
      "collapsed_sections": []
    },
    "kernelspec": {
      "name": "python3",
      "display_name": "Python 3"
    },
    "language_info": {
      "name": "python"
    }
  },
  "cells": [
    {
      "cell_type": "code",
      "metadata": {
        "colab": {
          "base_uri": "https://localhost:8080/"
        },
        "id": "-eah-P8hmRPP",
        "outputId": "a01de95f-114c-48fa-b86f-9c4a968c9f86"
      },
      "source": [
        "print(\"Python é divertido\") # Este é um comentário\n",
        "numeros = [1,2,3,4,5]\n",
        "numeros"
      ],
      "execution_count": null,
      "outputs": [
        {
          "output_type": "stream",
          "name": "stdout",
          "text": [
            "Python é divertido\n"
          ]
        },
        {
          "output_type": "execute_result",
          "data": {
            "text/plain": [
              "[1, 2, 3, 4, 5]"
            ]
          },
          "metadata": {},
          "execution_count": 2
        }
      ]
    },
    {
      "cell_type": "code",
      "metadata": {
        "colab": {
          "base_uri": "https://localhost:8080/"
        },
        "id": "GGeKRvSqdOjS",
        "outputId": "928f9bb0-291f-4d26-ca50-6f199257470d"
      },
      "source": [
        "type(numeros)"
      ],
      "execution_count": null,
      "outputs": [
        {
          "output_type": "execute_result",
          "data": {
            "text/plain": [
              "list"
            ]
          },
          "metadata": {},
          "execution_count": 3
        }
      ]
    },
    {
      "cell_type": "code",
      "metadata": {
        "colab": {
          "base_uri": "https://localhost:8080/"
        },
        "id": "rf4v3gvImdQ_",
        "outputId": "706f6772-bc18-46a9-c230-9ca7c091ce7a"
      },
      "source": [
        "variavel = 1.0\n",
        "variavel"
      ],
      "execution_count": null,
      "outputs": [
        {
          "output_type": "execute_result",
          "data": {
            "text/plain": [
              "1.0"
            ]
          },
          "metadata": {},
          "execution_count": 6
        }
      ]
    },
    {
      "cell_type": "code",
      "metadata": {
        "colab": {
          "base_uri": "https://localhost:8080/"
        },
        "id": "_ZYDcBVsdSk9",
        "outputId": "2e2c7636-ca40-47e5-95ab-aca962b0ae5a"
      },
      "source": [
        "type(variavel)"
      ],
      "execution_count": null,
      "outputs": [
        {
          "output_type": "execute_result",
          "data": {
            "text/plain": [
              "float"
            ]
          },
          "metadata": {},
          "execution_count": 7
        }
      ]
    },
    {
      "cell_type": "code",
      "metadata": {
        "colab": {
          "base_uri": "https://localhost:8080/",
          "height": 36
        },
        "id": "-OebM_ExdWyh",
        "outputId": "a0d8e29c-9a72-4b65-bc03-2601a292af15"
      },
      "source": [
        "nome = \"Este é 'o' Python123456\"\n",
        "nome"
      ],
      "execution_count": null,
      "outputs": [
        {
          "output_type": "execute_result",
          "data": {
            "application/vnd.google.colaboratory.intrinsic+json": {
              "type": "string"
            },
            "text/plain": [
              "\"Este é 'o' Python123456\""
            ]
          },
          "metadata": {},
          "execution_count": 23
        }
      ]
    },
    {
      "cell_type": "code",
      "metadata": {
        "colab": {
          "base_uri": "https://localhost:8080/",
          "height": 36
        },
        "id": "dbRnWpjMJ5Lw",
        "outputId": "c4ade5c9-bafe-4f40-de23-e3555ccae9ff"
      },
      "source": [
        "nome[0:10:2]"
      ],
      "execution_count": null,
      "outputs": [
        {
          "output_type": "execute_result",
          "data": {
            "application/vnd.google.colaboratory.intrinsic+json": {
              "type": "string"
            },
            "text/plain": [
              "'Et  o'"
            ]
          },
          "metadata": {},
          "execution_count": 27
        }
      ]
    },
    {
      "cell_type": "code",
      "metadata": {
        "colab": {
          "base_uri": "https://localhost:8080/"
        },
        "id": "bfMJg7Yhdbda",
        "outputId": "6e14f79a-2479-4793-a9fc-f4a001ad6dde"
      },
      "source": [
        "type(nome)"
      ],
      "execution_count": null,
      "outputs": [
        {
          "output_type": "execute_result",
          "data": {
            "text/plain": [
              "str"
            ]
          },
          "metadata": {},
          "execution_count": 55
        }
      ]
    },
    {
      "cell_type": "markdown",
      "metadata": {
        "id": "shto0hKV2sPq"
      },
      "source": [
        "**Palavras reservadas da linguagem Python**"
      ]
    },
    {
      "cell_type": "code",
      "metadata": {
        "colab": {
          "base_uri": "https://localhost:8080/"
        },
        "id": "cBD9PjrAmpZO",
        "outputId": "44073e8f-32a4-4822-8fbe-ef9b773211c8"
      },
      "source": [
        "help(\"keywords\")"
      ],
      "execution_count": null,
      "outputs": [
        {
          "output_type": "stream",
          "name": "stdout",
          "text": [
            "\n",
            "Here is a list of the Python keywords.  Enter any keyword to get more help.\n",
            "\n",
            "False               class               from                or\n",
            "None                continue            global              pass\n",
            "True                def                 if                  raise\n",
            "and                 del                 import              return\n",
            "as                  elif                in                  try\n",
            "assert              else                is                  while\n",
            "async               except              lambda              with\n",
            "await               finally             nonlocal            yield\n",
            "break               for                 not                 \n",
            "\n"
          ]
        }
      ]
    },
    {
      "cell_type": "code",
      "metadata": {
        "id": "Esp_qKuhmtTx",
        "colab": {
          "base_uri": "https://localhost:8080/"
        },
        "outputId": "45d01f87-2d25-4315-c1cc-d55481350daf"
      },
      "source": [
        "import keyword\n",
        "keyword.kwlist"
      ],
      "execution_count": null,
      "outputs": [
        {
          "output_type": "execute_result",
          "data": {
            "text/plain": [
              "['False',\n",
              " 'None',\n",
              " 'True',\n",
              " 'and',\n",
              " 'as',\n",
              " 'assert',\n",
              " 'async',\n",
              " 'await',\n",
              " 'break',\n",
              " 'class',\n",
              " 'continue',\n",
              " 'def',\n",
              " 'del',\n",
              " 'elif',\n",
              " 'else',\n",
              " 'except',\n",
              " 'finally',\n",
              " 'for',\n",
              " 'from',\n",
              " 'global',\n",
              " 'if',\n",
              " 'import',\n",
              " 'in',\n",
              " 'is',\n",
              " 'lambda',\n",
              " 'nonlocal',\n",
              " 'not',\n",
              " 'or',\n",
              " 'pass',\n",
              " 'raise',\n",
              " 'return',\n",
              " 'try',\n",
              " 'while',\n",
              " 'with',\n",
              " 'yield']"
            ]
          },
          "metadata": {},
          "execution_count": 3
        }
      ]
    },
    {
      "cell_type": "markdown",
      "metadata": {
        "id": "TlWT3gDf23OT"
      },
      "source": [
        "**Operações matemáticas básicas - Python como calculadora!**"
      ]
    },
    {
      "cell_type": "code",
      "metadata": {
        "colab": {
          "base_uri": "https://localhost:8080/"
        },
        "id": "zbZo26MYfqHI",
        "outputId": "ccb04bd3-6183-4adf-f2cc-8595e6818ecb"
      },
      "source": [
        "# Adição\n",
        "5 + 3"
      ],
      "execution_count": null,
      "outputs": [
        {
          "output_type": "execute_result",
          "data": {
            "text/plain": [
              "8"
            ]
          },
          "metadata": {},
          "execution_count": 9
        }
      ]
    },
    {
      "cell_type": "code",
      "metadata": {
        "colab": {
          "base_uri": "https://localhost:8080/"
        },
        "id": "kR7-NcLlfzRf",
        "outputId": "ea12fa6f-7adf-4a9f-db36-7d76d659cea5"
      },
      "source": [
        "# Subtração\n",
        "5 - 3"
      ],
      "execution_count": null,
      "outputs": [
        {
          "output_type": "execute_result",
          "data": {
            "text/plain": [
              "2"
            ]
          },
          "metadata": {},
          "execution_count": 5
        }
      ]
    },
    {
      "cell_type": "code",
      "metadata": {
        "colab": {
          "base_uri": "https://localhost:8080/"
        },
        "id": "MKC1v9S6f5AG",
        "outputId": "156ab1cd-b47e-4031-e466-0d2888affecb"
      },
      "source": [
        "# Multiplicação\n",
        "5 * 3"
      ],
      "execution_count": null,
      "outputs": [
        {
          "output_type": "execute_result",
          "data": {
            "text/plain": [
              "15"
            ]
          },
          "metadata": {},
          "execution_count": 6
        }
      ]
    },
    {
      "cell_type": "code",
      "metadata": {
        "colab": {
          "base_uri": "https://localhost:8080/"
        },
        "id": "kMqIYa45glmn",
        "outputId": "ab1c74d7-a92c-4461-e533-ebf62b268cfc"
      },
      "source": [
        "# Divisão\n",
        "5 / 3"
      ],
      "execution_count": null,
      "outputs": [
        {
          "output_type": "execute_result",
          "data": {
            "text/plain": [
              "1.6666666666666667"
            ]
          },
          "metadata": {},
          "execution_count": 10
        }
      ]
    },
    {
      "cell_type": "code",
      "metadata": {
        "colab": {
          "base_uri": "https://localhost:8080/"
        },
        "id": "Nwdfj1higpmf",
        "outputId": "a6f3d0ce-9563-4634-93eb-2de9969daae3"
      },
      "source": [
        "# Divisão sem resto (Floor)\n",
        "5 // 3"
      ],
      "execution_count": null,
      "outputs": [
        {
          "output_type": "execute_result",
          "data": {
            "text/plain": [
              "1"
            ]
          },
          "metadata": {},
          "execution_count": 11
        }
      ]
    },
    {
      "cell_type": "code",
      "metadata": {
        "colab": {
          "base_uri": "https://localhost:8080/"
        },
        "id": "ZUTXpMl4gxKQ",
        "outputId": "b7c058d4-04e0-4438-8ea7-8e89420bf2f1"
      },
      "source": [
        "# Módulo (resto da divisão)\n",
        "5 % 3"
      ],
      "execution_count": null,
      "outputs": [
        {
          "output_type": "execute_result",
          "data": {
            "text/plain": [
              "2"
            ]
          },
          "metadata": {},
          "execution_count": 12
        }
      ]
    },
    {
      "cell_type": "code",
      "metadata": {
        "colab": {
          "base_uri": "https://localhost:8080/"
        },
        "id": "c9_UEaAEg63X",
        "outputId": "1815dd67-fd16-43d4-d9a7-dbc36249c039"
      },
      "source": [
        "# Potência\n",
        "5 ** 3"
      ],
      "execution_count": null,
      "outputs": [
        {
          "output_type": "execute_result",
          "data": {
            "text/plain": [
              "125"
            ]
          },
          "metadata": {},
          "execution_count": 13
        }
      ]
    },
    {
      "cell_type": "code",
      "metadata": {
        "colab": {
          "base_uri": "https://localhost:8080/"
        },
        "id": "Cfz_LJEJih5I",
        "outputId": "023a065d-a5df-4eab-e6c9-46cc6139717c"
      },
      "source": [
        "# Número inteiro para flutuante\n",
        "float(9)"
      ],
      "execution_count": null,
      "outputs": [
        {
          "output_type": "execute_result",
          "data": {
            "text/plain": [
              "9.0"
            ]
          },
          "metadata": {},
          "execution_count": 14
        }
      ]
    },
    {
      "cell_type": "code",
      "metadata": {
        "colab": {
          "base_uri": "https://localhost:8080/"
        },
        "id": "hisHOlmHiq9I",
        "outputId": "af2fa44a-4a17-41db-c57e-36be20fd06fb"
      },
      "source": [
        "# Número inteiro para flutuante\n",
        "float(-9999)"
      ],
      "execution_count": null,
      "outputs": [
        {
          "output_type": "execute_result",
          "data": {
            "text/plain": [
              "-9999.0"
            ]
          },
          "metadata": {},
          "execution_count": 15
        }
      ]
    },
    {
      "cell_type": "code",
      "metadata": {
        "colab": {
          "base_uri": "https://localhost:8080/"
        },
        "id": "UrWoyP8djB00",
        "outputId": "481deb69-709c-46f1-dd47-f6eeac9c9a5f"
      },
      "source": [
        "# Número flutuante para inteiro\n",
        "int(10.6)"
      ],
      "execution_count": null,
      "outputs": [
        {
          "output_type": "execute_result",
          "data": {
            "text/plain": [
              "10"
            ]
          },
          "metadata": {},
          "execution_count": 16
        }
      ]
    },
    {
      "cell_type": "code",
      "metadata": {
        "colab": {
          "base_uri": "https://localhost:8080/"
        },
        "id": "GTnTZh9SjKed",
        "outputId": "6ec5a7d8-218f-4231-d7f4-254dffc86882"
      },
      "source": [
        "# Caracteres representando números\n",
        "int(\"2\")"
      ],
      "execution_count": null,
      "outputs": [
        {
          "output_type": "execute_result",
          "data": {
            "text/plain": [
              "2"
            ]
          },
          "metadata": {},
          "execution_count": 17
        }
      ]
    },
    {
      "cell_type": "markdown",
      "metadata": {
        "id": "LPfAE3zM3Dnx"
      },
      "source": [
        "**Ops!! Como o Python reage a erros no Notebook**"
      ]
    },
    {
      "cell_type": "code",
      "metadata": {
        "colab": {
          "base_uri": "https://localhost:8080/",
          "height": 192
        },
        "id": "p89Li1AEjTHK",
        "outputId": "8982593f-1d47-4b07-cb15-fdbe5163561c"
      },
      "source": [
        "# Caracteres representando números\n",
        "int(\"2.3\")"
      ],
      "execution_count": null,
      "outputs": [
        {
          "output_type": "error",
          "ename": "ValueError",
          "evalue": "ignored",
          "traceback": [
            "\u001b[0;31m---------------------------------------------------------------------------\u001b[0m",
            "\u001b[0;31mValueError\u001b[0m                                Traceback (most recent call last)",
            "\u001b[0;32m<ipython-input-28-088be40ceeb1>\u001b[0m in \u001b[0;36m<module>\u001b[0;34m()\u001b[0m\n\u001b[1;32m      1\u001b[0m \u001b[0;31m# Caracteres representando números\u001b[0m\u001b[0;34m\u001b[0m\u001b[0;34m\u001b[0m\u001b[0;34m\u001b[0m\u001b[0m\n\u001b[0;32m----> 2\u001b[0;31m \u001b[0mint\u001b[0m\u001b[0;34m(\u001b[0m\u001b[0;34m\"2.3\"\u001b[0m\u001b[0;34m)\u001b[0m\u001b[0;34m\u001b[0m\u001b[0;34m\u001b[0m\u001b[0m\n\u001b[0m",
            "\u001b[0;31mValueError\u001b[0m: invalid literal for int() with base 10: '2.3'"
          ]
        }
      ]
    },
    {
      "cell_type": "code",
      "metadata": {
        "colab": {
          "base_uri": "https://localhost:8080/"
        },
        "id": "O0QecN-KjcE6",
        "outputId": "26a14bcf-7918-4a1b-93b6-95b6228c204e"
      },
      "source": [
        "# Caracteres representando números \n",
        "float(\"2.3\")"
      ],
      "execution_count": null,
      "outputs": [
        {
          "output_type": "execute_result",
          "data": {
            "text/plain": [
              "2.3"
            ]
          },
          "metadata": {},
          "execution_count": 31
        }
      ]
    },
    {
      "cell_type": "markdown",
      "metadata": {
        "id": "m54Sd3Zp3Vqd"
      },
      "source": [
        "**Operadores Lógicos no Python**"
      ]
    },
    {
      "cell_type": "code",
      "metadata": {
        "colab": {
          "base_uri": "https://localhost:8080/"
        },
        "id": "2cqP3rPGjqOw",
        "outputId": "1898935a-2f66-462f-9ee5-b6c737f5c27e"
      },
      "source": [
        "2 > 5"
      ],
      "execution_count": null,
      "outputs": [
        {
          "output_type": "execute_result",
          "data": {
            "text/plain": [
              "False"
            ]
          },
          "metadata": {},
          "execution_count": 21
        }
      ]
    },
    {
      "cell_type": "code",
      "metadata": {
        "colab": {
          "base_uri": "https://localhost:8080/"
        },
        "id": "7zocQNtXjuhD",
        "outputId": "067a409c-b4ad-442f-89aa-e8d4a2c6e5f8"
      },
      "source": [
        "2 < 5"
      ],
      "execution_count": null,
      "outputs": [
        {
          "output_type": "execute_result",
          "data": {
            "text/plain": [
              "True"
            ]
          },
          "metadata": {},
          "execution_count": 22
        }
      ]
    },
    {
      "cell_type": "code",
      "metadata": {
        "colab": {
          "base_uri": "https://localhost:8080/"
        },
        "id": "Tyj7AoJvjx_B",
        "outputId": "4db2e12f-9cb5-469c-ab5a-49941c8f93af"
      },
      "source": [
        "3 >= 3"
      ],
      "execution_count": null,
      "outputs": [
        {
          "output_type": "execute_result",
          "data": {
            "text/plain": [
              "True"
            ]
          },
          "metadata": {},
          "execution_count": 23
        }
      ]
    },
    {
      "cell_type": "code",
      "metadata": {
        "colab": {
          "base_uri": "https://localhost:8080/"
        },
        "id": "K64KLtZfj2zF",
        "outputId": "5b53f337-d259-41e1-e296-de97fc050c45"
      },
      "source": [
        "5 == 6"
      ],
      "execution_count": null,
      "outputs": [
        {
          "output_type": "execute_result",
          "data": {
            "text/plain": [
              "False"
            ]
          },
          "metadata": {},
          "execution_count": 24
        }
      ]
    },
    {
      "cell_type": "code",
      "metadata": {
        "colab": {
          "base_uri": "https://localhost:8080/"
        },
        "id": "_ummlDsfj6Pu",
        "outputId": "92394e66-5191-465f-a637-14f5a9a4d549"
      },
      "source": [
        "5 != 6"
      ],
      "execution_count": null,
      "outputs": [
        {
          "output_type": "execute_result",
          "data": {
            "text/plain": [
              "True"
            ]
          },
          "metadata": {},
          "execution_count": 25
        }
      ]
    },
    {
      "cell_type": "code",
      "metadata": {
        "colab": {
          "base_uri": "https://localhost:8080/"
        },
        "id": "RMeF9FWxkClp",
        "outputId": "b4b2f1cc-1d89-472d-c764-39a4543a6bc4"
      },
      "source": [
        "bool(0)"
      ],
      "execution_count": null,
      "outputs": [
        {
          "output_type": "execute_result",
          "data": {
            "text/plain": [
              "False"
            ]
          },
          "metadata": {},
          "execution_count": 26
        }
      ]
    },
    {
      "cell_type": "code",
      "metadata": {
        "colab": {
          "base_uri": "https://localhost:8080/"
        },
        "id": "pGMH0vPVkFw4",
        "outputId": "8d1167d2-8c1d-4011-985f-e39418c898d4"
      },
      "source": [
        "bool(1)"
      ],
      "execution_count": null,
      "outputs": [
        {
          "output_type": "execute_result",
          "data": {
            "text/plain": [
              "True"
            ]
          },
          "metadata": {},
          "execution_count": 27
        }
      ]
    },
    {
      "cell_type": "code",
      "metadata": {
        "colab": {
          "base_uri": "https://localhost:8080/"
        },
        "id": "lhBY08d5kPSJ",
        "outputId": "0f1be8e8-8d40-403c-acf7-ec3f201b465b"
      },
      "source": [
        "int(False)"
      ],
      "execution_count": null,
      "outputs": [
        {
          "output_type": "execute_result",
          "data": {
            "text/plain": [
              "0"
            ]
          },
          "metadata": {},
          "execution_count": 28
        }
      ]
    },
    {
      "cell_type": "code",
      "metadata": {
        "colab": {
          "base_uri": "https://localhost:8080/"
        },
        "id": "wd6X6hZdkSRQ",
        "outputId": "c74bad40-8599-4447-beb5-6d3428243c4f"
      },
      "source": [
        "int(True)"
      ],
      "execution_count": null,
      "outputs": [
        {
          "output_type": "execute_result",
          "data": {
            "text/plain": [
              "1"
            ]
          },
          "metadata": {},
          "execution_count": 29
        }
      ]
    },
    {
      "cell_type": "code",
      "metadata": {
        "colab": {
          "base_uri": "https://localhost:8080/",
          "height": 35
        },
        "id": "kNeYc6BzkWiP",
        "outputId": "c850abf7-a2ef-43eb-d0b1-8b7f5d34fa27"
      },
      "source": [
        "# Use aspas simples\n",
        "saudacoes = 'Olá como vão? Tudo bem?'\n",
        "saudacoes"
      ],
      "execution_count": null,
      "outputs": [
        {
          "output_type": "execute_result",
          "data": {
            "application/vnd.google.colaboratory.intrinsic+json": {
              "type": "string"
            },
            "text/plain": [
              "'Olá como vão? Tudo bem?'"
            ]
          },
          "metadata": {},
          "execution_count": 30
        }
      ]
    },
    {
      "cell_type": "code",
      "metadata": {
        "colab": {
          "base_uri": "https://localhost:8080/",
          "height": 35
        },
        "id": "mCJSblNiklQ2",
        "outputId": "19b3d843-6888-4e8c-c2b5-a2ae810ebe57"
      },
      "source": [
        "# Use aspas duplas\n",
        "bemvindo = \"Bem-vindo ao Python!\"\n",
        "bemvindo"
      ],
      "execution_count": null,
      "outputs": [
        {
          "output_type": "execute_result",
          "data": {
            "application/vnd.google.colaboratory.intrinsic+json": {
              "type": "string"
            },
            "text/plain": [
              "'Bem-vindo ao Python!'"
            ]
          },
          "metadata": {},
          "execution_count": 31
        }
      ]
    },
    {
      "cell_type": "code",
      "metadata": {
        "colab": {
          "base_uri": "https://localhost:8080/",
          "height": 36
        },
        "id": "f1IeP5J0kw7Z",
        "outputId": "6d77b227-b390-4090-dab5-5f537d1b6981"
      },
      "source": [
        "# Use aspas triplas\n",
        "mensagem = \"\"\"Obrigado por se tornar um 'Pythonista!'\"\"\"\n",
        "mensagem"
      ],
      "execution_count": null,
      "outputs": [
        {
          "output_type": "execute_result",
          "data": {
            "application/vnd.google.colaboratory.intrinsic+json": {
              "type": "string"
            },
            "text/plain": [
              "\"Obrigado por se tornar um 'Pythonista!'\""
            ]
          },
          "metadata": {},
          "execution_count": 32
        }
      ]
    },
    {
      "cell_type": "code",
      "metadata": {
        "colab": {
          "base_uri": "https://localhost:8080/",
          "height": 36
        },
        "id": "HsCCxbenMcug",
        "outputId": "6a809436-b00b-49ce-ca7b-beb8970f2917"
      },
      "source": [
        "# Use aspas triplas\n",
        "mensagem = \"Obrigado por se tornar um 'Pythonista!'\"\n",
        "mensagem"
      ],
      "execution_count": null,
      "outputs": [
        {
          "output_type": "execute_result",
          "data": {
            "application/vnd.google.colaboratory.intrinsic+json": {
              "type": "string"
            },
            "text/plain": [
              "\"Obrigado por se tornar um 'Pythonista!'\""
            ]
          },
          "metadata": {},
          "execution_count": 33
        }
      ]
    },
    {
      "cell_type": "code",
      "metadata": {
        "colab": {
          "base_uri": "https://localhost:8080/",
          "height": 36
        },
        "id": "5cJhsn8XlPGQ",
        "outputId": "19249973-55b6-45d1-cc20-6ba0ffb3383e"
      },
      "source": [
        "# Concatenação\n",
        "\"Feliz \"+\"Pythoning!!\""
      ],
      "execution_count": null,
      "outputs": [
        {
          "output_type": "execute_result",
          "data": {
            "application/vnd.google.colaboratory.intrinsic+json": {
              "type": "string"
            },
            "text/plain": [
              "'Feliz Pythoning!!'"
            ]
          },
          "metadata": {},
          "execution_count": 34
        }
      ]
    },
    {
      "cell_type": "code",
      "metadata": {
        "colab": {
          "base_uri": "https://localhost:8080/"
        },
        "id": "M47tzSbJldm-",
        "outputId": "09ca63c5-23b9-4710-cc2f-90a5c8693fd1"
      },
      "source": [
        "# Comprimentos\n",
        "len(\"Feliz\")"
      ],
      "execution_count": null,
      "outputs": [
        {
          "output_type": "execute_result",
          "data": {
            "text/plain": [
              "5"
            ]
          },
          "metadata": {},
          "execution_count": 40
        }
      ]
    },
    {
      "cell_type": "code",
      "metadata": {
        "colab": {
          "base_uri": "https://localhost:8080/"
        },
        "id": "pr98GOAnl0x7",
        "outputId": "e788783a-4f50-46da-d374-fbd2249eef36"
      },
      "source": [
        "# Comprimentos\n",
        "len(\"Feliz \"+\"Pythoning!\")"
      ],
      "execution_count": null,
      "outputs": [
        {
          "output_type": "execute_result",
          "data": {
            "text/plain": [
              "16"
            ]
          },
          "metadata": {},
          "execution_count": 42
        }
      ]
    },
    {
      "cell_type": "code",
      "metadata": {
        "colab": {
          "base_uri": "https://localhost:8080/",
          "height": 35
        },
        "id": "JnqxdfX2mBbU",
        "outputId": "366f60f1-e592-453d-ef84-e19e424bba6c"
      },
      "source": [
        "# Tudo Maiúscula\n",
        "\"Feliz Pythoning\".upper()"
      ],
      "execution_count": null,
      "outputs": [
        {
          "output_type": "execute_result",
          "data": {
            "application/vnd.google.colaboratory.intrinsic+json": {
              "type": "string"
            },
            "text/plain": [
              "'FELIZ PYTHONING'"
            ]
          },
          "metadata": {},
          "execution_count": 44
        }
      ]
    },
    {
      "cell_type": "code",
      "metadata": {
        "colab": {
          "base_uri": "https://localhost:8080/",
          "height": 35
        },
        "id": "gtgVP6PzmL5z",
        "outputId": "4c05b8f3-f07f-44d8-bba5-bb1bbc1d246a"
      },
      "source": [
        "# Tudo Minúscula\n",
        "\"Feliz Pythoning\".lower()"
      ],
      "execution_count": null,
      "outputs": [
        {
          "output_type": "execute_result",
          "data": {
            "application/vnd.google.colaboratory.intrinsic+json": {
              "type": "string"
            },
            "text/plain": [
              "'feliz pythoning'"
            ]
          },
          "metadata": {},
          "execution_count": 45
        }
      ]
    },
    {
      "cell_type": "code",
      "metadata": {
        "colab": {
          "base_uri": "https://localhost:8080/"
        },
        "id": "Ju15m5zemWkJ",
        "outputId": "5164e749-d182-4fd6-c833-5c713593e37a"
      },
      "source": [
        "# Formatação\n",
        "nome = \"Antonio Vidal\"\n",
        "idade = 63\n",
        "print(\"Meu nome é {0} e eu tenho {1} anos\".format(nome, idade))"
      ],
      "execution_count": null,
      "outputs": [
        {
          "output_type": "stream",
          "name": "stdout",
          "text": [
            "Meu nome é Antonio Vidal e eu tenho 63 anos\n"
          ]
        }
      ]
    },
    {
      "cell_type": "code",
      "metadata": {
        "colab": {
          "base_uri": "https://localhost:8080/",
          "height": 35
        },
        "id": "rSARGmWOmpmD",
        "outputId": "2f03f591-49fd-4bf6-8195-5077ecc43bfc"
      },
      "source": [
        "# Ou você também pode utilizar f\n",
        "f\"Meu nome é {nome} e eu tenho {idade} anos.\""
      ],
      "execution_count": null,
      "outputs": [
        {
          "output_type": "execute_result",
          "data": {
            "application/vnd.google.colaboratory.intrinsic+json": {
              "type": "string"
            },
            "text/plain": [
              "'Meu nome é Antonio Vidal e eu tenho 63 anos.'"
            ]
          },
          "metadata": {},
          "execution_count": 48
        }
      ]
    },
    {
      "cell_type": "code",
      "metadata": {
        "colab": {
          "base_uri": "https://localhost:8080/"
        },
        "id": "genqw-cwNmF-",
        "outputId": "c3950983-2402-47af-9c3c-64f4eedc4ac0"
      },
      "source": [
        "# Ou você também pode utilizar f\n",
        "f\"Meu nome é {nome} e eu tenho {idade} anos.\"\n",
        "1+2"
      ],
      "execution_count": null,
      "outputs": [
        {
          "output_type": "execute_result",
          "data": {
            "text/plain": [
              "3"
            ]
          },
          "metadata": {},
          "execution_count": 37
        }
      ]
    },
    {
      "cell_type": "code",
      "metadata": {
        "colab": {
          "base_uri": "https://localhost:8080/",
          "height": 35
        },
        "id": "KByB5IoTm-cD",
        "outputId": "4a84fd93-fa66-45d1-8146-44b9514fd8bf"
      },
      "source": [
        "bemvindo = \"Bem-vindo ao Python\"\n",
        "bemvindo[0]"
      ],
      "execution_count": null,
      "outputs": [
        {
          "output_type": "execute_result",
          "data": {
            "application/vnd.google.colaboratory.intrinsic+json": {
              "type": "string"
            },
            "text/plain": [
              "'B'"
            ]
          },
          "metadata": {},
          "execution_count": 50
        }
      ]
    },
    {
      "cell_type": "code",
      "metadata": {
        "colab": {
          "base_uri": "https://localhost:8080/",
          "height": 35
        },
        "id": "77VjbxfEnLEa",
        "outputId": "fd97d8d1-5e4e-4d3a-bab7-b83340e5cbb0"
      },
      "source": [
        "bemvindo[13]"
      ],
      "execution_count": null,
      "outputs": [
        {
          "output_type": "execute_result",
          "data": {
            "application/vnd.google.colaboratory.intrinsic+json": {
              "type": "string"
            },
            "text/plain": [
              "'P'"
            ]
          },
          "metadata": {},
          "execution_count": 52
        }
      ]
    },
    {
      "cell_type": "code",
      "metadata": {
        "colab": {
          "base_uri": "https://localhost:8080/",
          "height": 35
        },
        "id": "Z1OzjV_-nQ8W",
        "outputId": "a308d043-55bb-4ae3-9a54-43bf1baa804e"
      },
      "source": [
        "bemvindo[-1]"
      ],
      "execution_count": null,
      "outputs": [
        {
          "output_type": "execute_result",
          "data": {
            "application/vnd.google.colaboratory.intrinsic+json": {
              "type": "string"
            },
            "text/plain": [
              "'n'"
            ]
          },
          "metadata": {},
          "execution_count": 53
        }
      ]
    },
    {
      "cell_type": "code",
      "metadata": {
        "colab": {
          "base_uri": "https://localhost:8080/",
          "height": 35
        },
        "id": "EJR9OeYMnWnF",
        "outputId": "a1a0a29a-6e2c-43e8-b06a-0429689c792c"
      },
      "source": [
        "bemvindo[0:3]"
      ],
      "execution_count": null,
      "outputs": [
        {
          "output_type": "execute_result",
          "data": {
            "application/vnd.google.colaboratory.intrinsic+json": {
              "type": "string"
            },
            "text/plain": [
              "'Bem'"
            ]
          },
          "metadata": {},
          "execution_count": 55
        }
      ]
    },
    {
      "cell_type": "code",
      "metadata": {
        "colab": {
          "base_uri": "https://localhost:8080/",
          "height": 35
        },
        "id": "2tEZfH3bngIl",
        "outputId": "f59cdc99-e4b8-4d28-b131-be0c7f2cd44e"
      },
      "source": [
        "bemvindo[13:19]"
      ],
      "execution_count": null,
      "outputs": [
        {
          "output_type": "execute_result",
          "data": {
            "application/vnd.google.colaboratory.intrinsic+json": {
              "type": "string"
            },
            "text/plain": [
              "'Python'"
            ]
          },
          "metadata": {},
          "execution_count": 56
        }
      ]
    },
    {
      "cell_type": "code",
      "metadata": {
        "colab": {
          "base_uri": "https://localhost:8080/",
          "height": 35
        },
        "id": "QcUxjojgntLY",
        "outputId": "7a858185-cdf9-434c-e82d-5a53b92bb9bf"
      },
      "source": [
        "bemvindo[0:11:2]"
      ],
      "execution_count": null,
      "outputs": [
        {
          "output_type": "execute_result",
          "data": {
            "application/vnd.google.colaboratory.intrinsic+json": {
              "type": "string"
            },
            "text/plain": [
              "'Bmvnoa'"
            ]
          },
          "metadata": {},
          "execution_count": 58
        }
      ]
    },
    {
      "cell_type": "markdown",
      "metadata": {
        "id": "LL8oeNc9Kk6-"
      },
      "source": [
        "**Listas**"
      ]
    },
    {
      "cell_type": "code",
      "metadata": {
        "colab": {
          "base_uri": "https://localhost:8080/"
        },
        "id": "pT8J-i_eKoTG",
        "outputId": "b536015f-5960-4cd3-eb6f-902c09ad23ca"
      },
      "source": [
        "# Defina uma lista vazia\n",
        "vazia = []\n",
        "vazia"
      ],
      "execution_count": null,
      "outputs": [
        {
          "output_type": "execute_result",
          "data": {
            "text/plain": [
              "[]"
            ]
          },
          "metadata": {},
          "execution_count": 1
        }
      ]
    },
    {
      "cell_type": "code",
      "metadata": {
        "colab": {
          "base_uri": "https://localhost:8080/"
        },
        "id": "-op2TnVVK09b",
        "outputId": "49dad48e-5a44-4d99-f6d2-02cedf6448c6"
      },
      "source": [
        "# Defina uma lista com números\n",
        "numeros = [1,2,3,100]\n",
        "numeros"
      ],
      "execution_count": null,
      "outputs": [
        {
          "output_type": "execute_result",
          "data": {
            "text/plain": [
              "[1, 2, 3, 100]"
            ]
          },
          "metadata": {},
          "execution_count": 2
        }
      ]
    },
    {
      "cell_type": "code",
      "metadata": {
        "colab": {
          "base_uri": "https://localhost:8080/"
        },
        "id": "5DUOS1UGK-dT",
        "outputId": "e31801f9-3eab-4756-81aa-2fb6c51c8eb2"
      },
      "source": [
        "# Modifique um determinado elemento da Lista\n",
        "numeros[3] = 200\n",
        "numeros"
      ],
      "execution_count": null,
      "outputs": [
        {
          "output_type": "execute_result",
          "data": {
            "text/plain": [
              "[1, 2, 3, 200]"
            ]
          },
          "metadata": {},
          "execution_count": 3
        }
      ]
    },
    {
      "cell_type": "code",
      "metadata": {
        "colab": {
          "base_uri": "https://localhost:8080/"
        },
        "id": "qu8X3t4qLIHS",
        "outputId": "be0770a6-7311-4722-9c88-b4876f6025ac"
      },
      "source": [
        "# Defina uma lista de strings\n",
        "superherois = [\"Batman\", \"Superhomem\", \"Homem Aranha\"]\n",
        "superherois"
      ],
      "execution_count": null,
      "outputs": [
        {
          "output_type": "execute_result",
          "data": {
            "text/plain": [
              "['Batman', 'Superhomem', 'Homem Aranha']"
            ]
          },
          "metadata": {},
          "execution_count": 4
        }
      ]
    },
    {
      "cell_type": "code",
      "metadata": {
        "colab": {
          "base_uri": "https://localhost:8080/"
        },
        "id": "xmJ0zPUmLWlN",
        "outputId": "67de5e9c-d2af-457b-e8af-c1a6eee4bca3"
      },
      "source": [
        "# Defina uma lista de objetos de tipos diferentes\n",
        "lista_mista = [\"Olá Python\", [4,5,6], False]\n",
        "lista_mista"
      ],
      "execution_count": null,
      "outputs": [
        {
          "output_type": "execute_result",
          "data": {
            "text/plain": [
              "['Olá Python', [4, 5, 6], False]"
            ]
          },
          "metadata": {},
          "execution_count": 5
        }
      ]
    },
    {
      "cell_type": "code",
      "metadata": {
        "colab": {
          "base_uri": "https://localhost:8080/"
        },
        "id": "ZpVER-3ULnwq",
        "outputId": "b2183893-6c36-484d-9de3-d60a7cf510b3"
      },
      "source": [
        "numeros[2]"
      ],
      "execution_count": null,
      "outputs": [
        {
          "output_type": "execute_result",
          "data": {
            "text/plain": [
              "3"
            ]
          },
          "metadata": {},
          "execution_count": 6
        }
      ]
    },
    {
      "cell_type": "code",
      "metadata": {
        "colab": {
          "base_uri": "https://localhost:8080/",
          "height": 35
        },
        "id": "VA0v8s9PLtCb",
        "outputId": "53db196d-dcbe-4bf2-bf5b-0e4f923a5a46"
      },
      "source": [
        "superherois[-1]"
      ],
      "execution_count": null,
      "outputs": [
        {
          "output_type": "execute_result",
          "data": {
            "application/vnd.google.colaboratory.intrinsic+json": {
              "type": "string"
            },
            "text/plain": [
              "'Homem Aranha'"
            ]
          },
          "metadata": {},
          "execution_count": 7
        }
      ]
    },
    {
      "cell_type": "code",
      "metadata": {
        "colab": {
          "base_uri": "https://localhost:8080/"
        },
        "id": "0VT8TfNTL0Ta",
        "outputId": "a7fd73ce-8037-4a39-e64c-672867e39958"
      },
      "source": [
        "nova_lista = numeros[0:3]\n",
        "nova_lista"
      ],
      "execution_count": null,
      "outputs": [
        {
          "output_type": "execute_result",
          "data": {
            "text/plain": [
              "[1, 2, 3]"
            ]
          },
          "metadata": {},
          "execution_count": 8
        }
      ]
    },
    {
      "cell_type": "code",
      "metadata": {
        "colab": {
          "base_uri": "https://localhost:8080/"
        },
        "id": "4Hi7dlECL_TD",
        "outputId": "5ff84244-2602-41c6-edb3-4a5199ab7e1c"
      },
      "source": [
        "lista_mista[1][2]"
      ],
      "execution_count": null,
      "outputs": [
        {
          "output_type": "execute_result",
          "data": {
            "text/plain": [
              "6"
            ]
          },
          "metadata": {},
          "execution_count": 9
        }
      ]
    },
    {
      "cell_type": "code",
      "metadata": {
        "colab": {
          "base_uri": "https://localhost:8080/"
        },
        "id": "-bywTW0kMLI7",
        "outputId": "16e19bc3-0475-4020-e9f1-0e5dd69359d1"
      },
      "source": [
        "frutas = [\"maçã\",\"limão\",\"laranja\"]\n",
        "vegetais = [\"milho\",\"cenoura\",\"chuchu\"]\n",
        "lista_saudavel = frutas + vegetais\n",
        "lista_saudavel"
      ],
      "execution_count": null,
      "outputs": [
        {
          "output_type": "execute_result",
          "data": {
            "text/plain": [
              "['maçã', 'limão', 'laranja', 'milho', 'cenoura', 'chuchu']"
            ]
          },
          "metadata": {},
          "execution_count": 11
        }
      ]
    },
    {
      "cell_type": "code",
      "metadata": {
        "colab": {
          "base_uri": "https://localhost:8080/"
        },
        "id": "5pJnhNDlMy0g",
        "outputId": "f3f056bc-fe12-4887-e38c-7902c0cc8699"
      },
      "source": [
        "len(numeros)"
      ],
      "execution_count": null,
      "outputs": [
        {
          "output_type": "execute_result",
          "data": {
            "text/plain": [
              "4"
            ]
          },
          "metadata": {},
          "execution_count": 12
        }
      ]
    },
    {
      "cell_type": "code",
      "metadata": {
        "colab": {
          "base_uri": "https://localhost:8080/"
        },
        "id": "U4UfLeDhM5hK",
        "outputId": "9f64d746-bbca-43b8-ee83-fa0e59c57165"
      },
      "source": [
        "frutas.append(\"melancia\")\n",
        "frutas"
      ],
      "execution_count": null,
      "outputs": [
        {
          "output_type": "execute_result",
          "data": {
            "text/plain": [
              "['maçã', 'limão', 'laranja', 'melancia']"
            ]
          },
          "metadata": {},
          "execution_count": 13
        }
      ]
    },
    {
      "cell_type": "code",
      "metadata": {
        "colab": {
          "base_uri": "https://localhost:8080/"
        },
        "id": "uNiy-X9fNA8C",
        "outputId": "4c30b2bf-a7c6-4028-d019-c82425fcf0dd"
      },
      "source": [
        "frutas.sort()\n",
        "frutas"
      ],
      "execution_count": null,
      "outputs": [
        {
          "output_type": "execute_result",
          "data": {
            "text/plain": [
              "['laranja', 'limão', 'maçã', 'melancia']"
            ]
          },
          "metadata": {},
          "execution_count": 17
        }
      ]
    },
    {
      "cell_type": "markdown",
      "metadata": {
        "id": "Oto_dN-zNqVH"
      },
      "source": [
        "**Dicionários**"
      ]
    },
    {
      "cell_type": "code",
      "metadata": {
        "colab": {
          "base_uri": "https://localhost:8080/"
        },
        "id": "mwVOAGPeNwKd",
        "outputId": "38eee26c-221c-4fc3-c06a-aa1820ed076a"
      },
      "source": [
        "salario_dic = {'Pedro': 1000,'Carlos': 750,'Ricardo': 2000,'Letícia':2500}\n",
        "salario_dic"
      ],
      "execution_count": null,
      "outputs": [
        {
          "output_type": "execute_result",
          "data": {
            "text/plain": [
              "{'Carlos': 750, 'Letícia': 2500, 'Pedro': 1000, 'Ricardo': 2000}"
            ]
          },
          "metadata": {},
          "execution_count": 1
        }
      ]
    },
    {
      "cell_type": "code",
      "metadata": {
        "colab": {
          "base_uri": "https://localhost:8080/"
        },
        "id": "C85rS-ChOJRo",
        "outputId": "754dd087-3cbc-4801-99c9-a806da5477ec"
      },
      "source": [
        "salario_dic['Pedro']"
      ],
      "execution_count": null,
      "outputs": [
        {
          "output_type": "execute_result",
          "data": {
            "text/plain": [
              "1000"
            ]
          },
          "metadata": {},
          "execution_count": 2
        }
      ]
    },
    {
      "cell_type": "code",
      "metadata": {
        "colab": {
          "base_uri": "https://localhost:8080/"
        },
        "id": "Q2mljLb2OOLr",
        "outputId": "6a39217b-82a5-45f6-f648-9f832347d48c"
      },
      "source": [
        "salario_dic['Letícia']"
      ],
      "execution_count": null,
      "outputs": [
        {
          "output_type": "execute_result",
          "data": {
            "text/plain": [
              "2500"
            ]
          },
          "metadata": {},
          "execution_count": 4
        }
      ]
    },
    {
      "cell_type": "code",
      "metadata": {
        "colab": {
          "base_uri": "https://localhost:8080/"
        },
        "id": "3zA3fsrYOVZj",
        "outputId": "9577a43d-77af-47f1-96ad-bee331661cc4"
      },
      "source": [
        "len(salario_dic)"
      ],
      "execution_count": null,
      "outputs": [
        {
          "output_type": "execute_result",
          "data": {
            "text/plain": [
              "4"
            ]
          },
          "metadata": {},
          "execution_count": 5
        }
      ]
    },
    {
      "cell_type": "code",
      "metadata": {
        "colab": {
          "base_uri": "https://localhost:8080/"
        },
        "id": "F88NCE6hOZBF",
        "outputId": "358609ee-35fe-4b31-c297-65f834c107ae"
      },
      "source": [
        "salario_dic"
      ],
      "execution_count": null,
      "outputs": [
        {
          "output_type": "execute_result",
          "data": {
            "text/plain": [
              "{'Carlos': 750, 'Letícia': 2500, 'Pedro': 1000, 'Ricardo': 2000}"
            ]
          },
          "metadata": {},
          "execution_count": 6
        }
      ]
    },
    {
      "cell_type": "code",
      "metadata": {
        "colab": {
          "base_uri": "https://localhost:8080/"
        },
        "id": "lTIBMDpaOb8K",
        "outputId": "efa7738f-2792-4f6b-fb40-c694fe229ab3"
      },
      "source": [
        "salario_dic.keys()"
      ],
      "execution_count": null,
      "outputs": [
        {
          "output_type": "execute_result",
          "data": {
            "text/plain": [
              "dict_keys(['Pedro', 'Carlos', 'Ricardo', 'Letícia'])"
            ]
          },
          "metadata": {},
          "execution_count": 10
        }
      ]
    },
    {
      "cell_type": "code",
      "metadata": {
        "id": "_RVNNyYaOtT8"
      },
      "source": [
        ""
      ],
      "execution_count": null,
      "outputs": []
    },
    {
      "cell_type": "markdown",
      "metadata": {
        "id": "iEmEHsRQOvSr"
      },
      "source": [
        "**Tuplas**"
      ]
    },
    {
      "cell_type": "code",
      "metadata": {
        "colab": {
          "base_uri": "https://localhost:8080/"
        },
        "id": "ozTAHM8BOzM1",
        "outputId": "0a73d8e0-ff3d-4d4e-d931-a6f928cd010a"
      },
      "source": [
        "tupla1 = 'a','b','c','d','e'\n",
        "tupla1"
      ],
      "execution_count": null,
      "outputs": [
        {
          "output_type": "execute_result",
          "data": {
            "text/plain": [
              "('a', 'b', 'c', 'd', 'e')"
            ]
          },
          "metadata": {},
          "execution_count": 12
        }
      ]
    },
    {
      "cell_type": "code",
      "metadata": {
        "colab": {
          "base_uri": "https://localhost:8080/"
        },
        "id": "0JPmyL73O-Iq",
        "outputId": "2e36d034-f59e-4023-bdfc-c720072a78df"
      },
      "source": [
        "type(tupla1)"
      ],
      "execution_count": null,
      "outputs": [
        {
          "output_type": "execute_result",
          "data": {
            "text/plain": [
              "tuple"
            ]
          },
          "metadata": {},
          "execution_count": 13
        }
      ]
    },
    {
      "cell_type": "code",
      "metadata": {
        "colab": {
          "base_uri": "https://localhost:8080/"
        },
        "id": "iM_OExEiPBm_",
        "outputId": "060ab39d-5695-4ad4-b253-f5fc42ad6136"
      },
      "source": [
        "tupla2 = ('f','g','i','h')\n",
        "tupla2"
      ],
      "execution_count": null,
      "outputs": [
        {
          "output_type": "execute_result",
          "data": {
            "text/plain": [
              "('f', 'g', 'i', 'h')"
            ]
          },
          "metadata": {},
          "execution_count": 14
        }
      ]
    },
    {
      "cell_type": "code",
      "metadata": {
        "colab": {
          "base_uri": "https://localhost:8080/",
          "height": 34
        },
        "id": "VHPR6X05PL3R",
        "outputId": "4245a22d-63c8-4f74-e904-f12baedaf8e7"
      },
      "source": [
        "tupla2[0]"
      ],
      "execution_count": null,
      "outputs": [
        {
          "output_type": "execute_result",
          "data": {
            "application/vnd.google.colaboratory.intrinsic+json": {
              "type": "string"
            },
            "text/plain": [
              "'f'"
            ]
          },
          "metadata": {},
          "execution_count": 15
        }
      ]
    },
    {
      "cell_type": "code",
      "metadata": {
        "colab": {
          "base_uri": "https://localhost:8080/",
          "height": 165
        },
        "id": "UylZm644PQpd",
        "outputId": "7d8d71de-ddf0-4e02-c0f2-999a5b8a9d68"
      },
      "source": [
        "tupla2[0] = 'x'"
      ],
      "execution_count": null,
      "outputs": [
        {
          "output_type": "error",
          "ename": "TypeError",
          "evalue": "ignored",
          "traceback": [
            "\u001b[0;31m---------------------------------------------------------------------------\u001b[0m",
            "\u001b[0;31mTypeError\u001b[0m                                 Traceback (most recent call last)",
            "\u001b[0;32m<ipython-input-16-d48562b58fa0>\u001b[0m in \u001b[0;36m<module>\u001b[0;34m()\u001b[0m\n\u001b[0;32m----> 1\u001b[0;31m \u001b[0mtupla2\u001b[0m\u001b[0;34m[\u001b[0m\u001b[0;36m0\u001b[0m\u001b[0;34m]\u001b[0m \u001b[0;34m=\u001b[0m \u001b[0;34m'x'\u001b[0m\u001b[0;34m\u001b[0m\u001b[0;34m\u001b[0m\u001b[0m\n\u001b[0m",
            "\u001b[0;31mTypeError\u001b[0m: 'tuple' object does not support item assignment"
          ]
        }
      ]
    },
    {
      "cell_type": "code",
      "metadata": {
        "colab": {
          "base_uri": "https://localhost:8080/"
        },
        "id": "ohyPNbBBV9f-",
        "outputId": "415e5fe4-73c3-4f88-d0a1-59559dd1b6c4"
      },
      "source": [
        "empregados = {'João','Maria','Jose'}\n",
        "empregados"
      ],
      "execution_count": null,
      "outputs": [
        {
          "output_type": "execute_result",
          "data": {
            "text/plain": [
              "{'Jose', 'João', 'Maria'}"
            ]
          },
          "metadata": {},
          "execution_count": 45
        }
      ]
    },
    {
      "cell_type": "code",
      "metadata": {
        "colab": {
          "base_uri": "https://localhost:8080/"
        },
        "id": "oaTHJnDtWT9n",
        "outputId": "04b626d9-f19c-4f7b-f83c-23f074a15ca2"
      },
      "source": [
        "type(empregados)"
      ],
      "execution_count": null,
      "outputs": [
        {
          "output_type": "execute_result",
          "data": {
            "text/plain": [
              "set"
            ]
          },
          "metadata": {},
          "execution_count": 48
        }
      ]
    },
    {
      "cell_type": "code",
      "metadata": {
        "colab": {
          "base_uri": "https://localhost:8080/"
        },
        "id": "mOE6NvsxWGAz",
        "outputId": "6f9d96af-59f5-455d-e0b5-3e4c16e3132e"
      },
      "source": [
        "funcionarios = set([\"David\",\"Mark\",\"Marie\"])\n",
        "funcionarios"
      ],
      "execution_count": null,
      "outputs": [
        {
          "output_type": "execute_result",
          "data": {
            "text/plain": [
              "{'David', 'Marie', 'Mark'}"
            ]
          },
          "metadata": {},
          "execution_count": 47
        }
      ]
    },
    {
      "cell_type": "code",
      "metadata": {
        "colab": {
          "base_uri": "https://localhost:8080/"
        },
        "id": "bEyrV0jiWSqn",
        "outputId": "cb3d4c24-991e-4bd5-e484-8a15659fa491"
      },
      "source": [
        "type(funcionarios)"
      ],
      "execution_count": null,
      "outputs": [
        {
          "output_type": "execute_result",
          "data": {
            "text/plain": [
              "set"
            ]
          },
          "metadata": {},
          "execution_count": 49
        }
      ]
    },
    {
      "cell_type": "code",
      "metadata": {
        "colab": {
          "base_uri": "https://localhost:8080/"
        },
        "id": "Ukmdl3EIWddf",
        "outputId": "9ac04a9a-23ad-4842-8fef-9f74dc3ff819"
      },
      "source": [
        "teste = {'teste','teste','teste'}\n",
        "teste"
      ],
      "execution_count": null,
      "outputs": [
        {
          "output_type": "execute_result",
          "data": {
            "text/plain": [
              "{'teste'}"
            ]
          },
          "metadata": {},
          "execution_count": 50
        }
      ]
    },
    {
      "cell_type": "code",
      "metadata": {
        "colab": {
          "base_uri": "https://localhost:8080/"
        },
        "id": "Dh0JvV_ZWkZA",
        "outputId": "b53b2765-58ca-44a5-91cc-15424ff82415"
      },
      "source": [
        "teste2 = {'teste1','teste2','teste3'}\n",
        "teste2"
      ],
      "execution_count": null,
      "outputs": [
        {
          "output_type": "execute_result",
          "data": {
            "text/plain": [
              "{'teste1', 'teste2', 'teste3'}"
            ]
          },
          "metadata": {},
          "execution_count": 51
        }
      ]
    },
    {
      "cell_type": "markdown",
      "metadata": {
        "id": "jOUa1HH5PZfl"
      },
      "source": [
        "**Estruturas Condicionais**"
      ]
    },
    {
      "cell_type": "code",
      "metadata": {
        "colab": {
          "base_uri": "https://localhost:8080/"
        },
        "id": "4Mv4GI5APXm3",
        "outputId": "68cc97ad-c4d0-43b0-c810-72d95365bf22"
      },
      "source": [
        "idade = 21\n",
        "if idade >= 18:\n",
        "  print(\"Você já é considerado um adulto\")"
      ],
      "execution_count": null,
      "outputs": [
        {
          "output_type": "stream",
          "name": "stdout",
          "text": [
            "Você já é considerado um adulto\n"
          ]
        }
      ]
    },
    {
      "cell_type": "code",
      "metadata": {
        "colab": {
          "base_uri": "https://localhost:8080/"
        },
        "id": "r4rHdKyBPtN4",
        "outputId": "b7d4b192-452e-4489-e519-f72ce618fd9d"
      },
      "source": [
        "idade = 16\n",
        "if idade >= 18:\n",
        "  print(\"Você é já é considerado um adulto\")\n",
        "else:\n",
        "  print(\"Você ainda não é considerado um adulto\")"
      ],
      "execution_count": null,
      "outputs": [
        {
          "output_type": "stream",
          "name": "stdout",
          "text": [
            "Você ainda não é considerado um adulto\n"
          ]
        }
      ]
    },
    {
      "cell_type": "code",
      "metadata": {
        "colab": {
          "base_uri": "https://localhost:8080/"
        },
        "id": "WCfVRJIIP8vG",
        "outputId": "e965686d-ef01-448d-ec72-71e8f1397eb1"
      },
      "source": [
        "idade = 18\n",
        "if idade > 18:\n",
        "  print(\"Você tem mais de 18 anos\")\n",
        "elif idade == 18:\n",
        "  print(\"Você tem exatamente 18 anos\")\n",
        "else:\n",
        "  print(\"Você tem menos de 18 anos\")"
      ],
      "execution_count": null,
      "outputs": [
        {
          "output_type": "stream",
          "name": "stdout",
          "text": [
            "Você tem exatamente 18 anos\n"
          ]
        }
      ]
    },
    {
      "cell_type": "code",
      "metadata": {
        "colab": {
          "base_uri": "https://localhost:8080/"
        },
        "id": "20SXzNPxQcZw",
        "outputId": "b3e3683f-9b9e-41f8-aa26-adb2fb3a5fc1"
      },
      "source": [
        "lista = [10, 77, 88, 32, 100]\n",
        "for i in lista:\n",
        "  print(i)"
      ],
      "execution_count": null,
      "outputs": [
        {
          "output_type": "stream",
          "name": "stdout",
          "text": [
            "10\n",
            "77\n",
            "88\n",
            "32\n",
            "100\n"
          ]
        }
      ]
    },
    {
      "cell_type": "code",
      "metadata": {
        "colab": {
          "base_uri": "https://localhost:8080/"
        },
        "id": "pafaKj4AQnBS",
        "outputId": "8d48ac22-9736-4cb0-bd66-60426c8c14a7"
      },
      "source": [
        "for i in range(10):\n",
        "  print(i+1)"
      ],
      "execution_count": null,
      "outputs": [
        {
          "output_type": "stream",
          "name": "stdout",
          "text": [
            "1\n",
            "2\n",
            "3\n",
            "4\n",
            "5\n",
            "6\n",
            "7\n",
            "8\n",
            "9\n",
            "10\n"
          ]
        }
      ]
    },
    {
      "cell_type": "code",
      "metadata": {
        "colab": {
          "base_uri": "https://localhost:8080/"
        },
        "id": "pxeKn4hWQvkw",
        "outputId": "40023d16-4f5e-4660-8f74-c05a9b4d6518"
      },
      "source": [
        "i = 0\n",
        "while i < 10:\n",
        "  print(i)\n",
        "  i = i+1\n",
        "\n"
      ],
      "execution_count": null,
      "outputs": [
        {
          "output_type": "stream",
          "name": "stdout",
          "text": [
            "0\n",
            "1\n",
            "2\n",
            "3\n",
            "4\n",
            "5\n",
            "6\n",
            "7\n",
            "8\n",
            "9\n"
          ]
        }
      ]
    },
    {
      "cell_type": "markdown",
      "metadata": {
        "id": "YXhrFMJYSlwc"
      },
      "source": [
        "**Funções**"
      ]
    },
    {
      "cell_type": "code",
      "metadata": {
        "id": "zU_8fzuESpfW"
      },
      "source": [
        "def soma(a,b):\n",
        "  return a+b\n",
        "\n",
        "def subtracao(a,b):\n",
        "  return a-b\n",
        "\n",
        "def multiplicacao(a,b):\n",
        "  return a*b\n",
        "\n",
        "def divisao(a,b):\n",
        "  if b != 0:\n",
        "    return a/b\n",
        "  else:\n",
        "    return \"Erro: não é possível dividir por zero!\"\n"
      ],
      "execution_count": null,
      "outputs": []
    },
    {
      "cell_type": "code",
      "metadata": {
        "colab": {
          "base_uri": "https://localhost:8080/"
        },
        "id": "gkJO9Q6QTTvT",
        "outputId": "41a45626-b51b-48bd-996c-6f6599464e70"
      },
      "source": [
        "x = 10\n",
        "y = 20\n",
        "print('Soma de x com y:',soma(x,y))\n",
        "print('Subtração de x com y:',subtracao(x,y))\n",
        "print('Multiplicação de x por y:', multiplicacao(x,y))\n",
        "print('Divisão de x por y:', divisao(x,y))\n"
      ],
      "execution_count": null,
      "outputs": [
        {
          "output_type": "stream",
          "name": "stdout",
          "text": [
            "Soma de x com y: 30\n",
            "Subtração de x com y: -10\n",
            "Multiplicação de x por y: 200\n",
            "Divisão de x por y: 0.5\n"
          ]
        }
      ]
    },
    {
      "cell_type": "markdown",
      "metadata": {
        "id": "YzaSMe8WT8YC"
      },
      "source": [
        "Funções Lambda"
      ]
    },
    {
      "cell_type": "code",
      "metadata": {
        "colab": {
          "base_uri": "https://localhost:8080/"
        },
        "id": "Woy_frJET_yq",
        "outputId": "bda46ceb-eaf5-4cf0-fc7c-af728e3d1de5"
      },
      "source": [
        "def duplica(x):\n",
        "  resposta = x*2\n",
        "  return(resposta)\n",
        "duplica(2)"
      ],
      "execution_count": null,
      "outputs": [
        {
          "output_type": "execute_result",
          "data": {
            "text/plain": [
              "4"
            ]
          },
          "metadata": {},
          "execution_count": 36
        }
      ]
    },
    {
      "cell_type": "code",
      "metadata": {
        "colab": {
          "base_uri": "https://localhost:8080/"
        },
        "id": "gIWEvbPCUPyu",
        "outputId": "b5767039-9612-4d6f-968f-07550907f38a"
      },
      "source": [
        "duplica(3)"
      ],
      "execution_count": null,
      "outputs": [
        {
          "output_type": "execute_result",
          "data": {
            "text/plain": [
              "6"
            ]
          },
          "metadata": {},
          "execution_count": 37
        }
      ]
    },
    {
      "cell_type": "code",
      "metadata": {
        "colab": {
          "base_uri": "https://localhost:8080/"
        },
        "id": "HvKOWf81UTaU",
        "outputId": "2de20438-99ef-45e9-a93f-f5d580ff45bf"
      },
      "source": [
        "def duplica2(x):\n",
        "  return(x*2)\n",
        "duplica2(6)"
      ],
      "execution_count": null,
      "outputs": [
        {
          "output_type": "execute_result",
          "data": {
            "text/plain": [
              "12"
            ]
          },
          "metadata": {},
          "execution_count": 38
        }
      ]
    },
    {
      "cell_type": "code",
      "metadata": {
        "colab": {
          "base_uri": "https://localhost:8080/"
        },
        "id": "r4C_7UMUUeea",
        "outputId": "5bc1b33a-d4ae-4e3b-e12f-5a8d9236b033"
      },
      "source": [
        "def duplica3(x): return(x*2)\n",
        "duplica(5)"
      ],
      "execution_count": null,
      "outputs": [
        {
          "output_type": "execute_result",
          "data": {
            "text/plain": [
              "10"
            ]
          },
          "metadata": {},
          "execution_count": 39
        }
      ]
    },
    {
      "cell_type": "code",
      "metadata": {
        "colab": {
          "base_uri": "https://localhost:8080/"
        },
        "id": "0bPdYjkSUoYD",
        "outputId": "3ebcc286-7dd2-4d6b-8c49-e3c927d7be6c"
      },
      "source": [
        "duplicaLambda = lambda x:x*2\n",
        "duplicaLambda(8)"
      ],
      "execution_count": null,
      "outputs": [
        {
          "output_type": "execute_result",
          "data": {
            "text/plain": [
              "16"
            ]
          },
          "metadata": {},
          "execution_count": 41
        }
      ]
    },
    {
      "cell_type": "markdown",
      "metadata": {
        "id": "WTk00oJHeKed"
      },
      "source": [
        "**Biblioteca PANDAS - Trabalhando com DataFrames**"
      ]
    },
    {
      "cell_type": "code",
      "metadata": {
        "id": "4UdmLnTNeJoN"
      },
      "source": [
        "import pandas as pd"
      ],
      "execution_count": null,
      "outputs": []
    },
    {
      "cell_type": "code",
      "metadata": {
        "colab": {
          "base_uri": "https://localhost:8080/"
        },
        "id": "L4Gc2zCUeU19",
        "outputId": "d1da4ab8-0d31-4726-831b-95e8822a7c6b"
      },
      "source": [
        "data = {'name': ['Xavier', 'Ann', 'Jana', 'Yi', 'Robin', 'Amal', 'Nori', 'Tabajara'],\n",
        "        'city': ['Mexico City', 'Toronto', 'Prague', 'Shanghai','Manchester', 'Cairo', 'Osaka', 'Rio'], \n",
        "        'age': [41, 28, 33, 34, 38, 31, 37, 32], \n",
        "        'py-score': [88.0, 79.0, 81.0, 80.0, 68.0, 61.0, 84.0, 85.0]}\n",
        "data"
      ],
      "execution_count": null,
      "outputs": [
        {
          "output_type": "execute_result",
          "data": {
            "text/plain": [
              "{'age': [41, 28, 33, 34, 38, 31, 37, 32],\n",
              " 'city': ['Mexico City',\n",
              "  'Toronto',\n",
              "  'Prague',\n",
              "  'Shanghai',\n",
              "  'Manchester',\n",
              "  'Cairo',\n",
              "  'Osaka',\n",
              "  'Rio'],\n",
              " 'name': ['Xavier', 'Ann', 'Jana', 'Yi', 'Robin', 'Amal', 'Nori', 'Tabajara'],\n",
              " 'py-score': [88.0, 79.0, 81.0, 80.0, 68.0, 61.0, 84.0, 85.0]}"
            ]
          },
          "metadata": {},
          "execution_count": 61
        }
      ]
    },
    {
      "cell_type": "code",
      "metadata": {
        "colab": {
          "base_uri": "https://localhost:8080/"
        },
        "id": "8Xwiqf7Ceff4",
        "outputId": "accf866c-1257-43fd-964a-e8db22f04aaa"
      },
      "source": [
        "row_labels = [101, 102, 103, 104, 105, 106, 107, 108]\n",
        "row_labels"
      ],
      "execution_count": null,
      "outputs": [
        {
          "output_type": "execute_result",
          "data": {
            "text/plain": [
              "[101, 102, 103, 104, 105, 106, 107, 108]"
            ]
          },
          "metadata": {},
          "execution_count": 62
        }
      ]
    },
    {
      "cell_type": "code",
      "metadata": {
        "colab": {
          "base_uri": "https://localhost:8080/",
          "height": 298
        },
        "id": "ngSgPFr8eiwR",
        "outputId": "76514c0b-7d3d-415c-d026-0d701d173e7a"
      },
      "source": [
        "df = pd.DataFrame(data=data, index=row_labels)\n",
        "df"
      ],
      "execution_count": null,
      "outputs": [
        {
          "output_type": "execute_result",
          "data": {
            "text/html": [
              "<div>\n",
              "<style scoped>\n",
              "    .dataframe tbody tr th:only-of-type {\n",
              "        vertical-align: middle;\n",
              "    }\n",
              "\n",
              "    .dataframe tbody tr th {\n",
              "        vertical-align: top;\n",
              "    }\n",
              "\n",
              "    .dataframe thead th {\n",
              "        text-align: right;\n",
              "    }\n",
              "</style>\n",
              "<table border=\"1\" class=\"dataframe\">\n",
              "  <thead>\n",
              "    <tr style=\"text-align: right;\">\n",
              "      <th></th>\n",
              "      <th>name</th>\n",
              "      <th>city</th>\n",
              "      <th>age</th>\n",
              "      <th>py-score</th>\n",
              "    </tr>\n",
              "  </thead>\n",
              "  <tbody>\n",
              "    <tr>\n",
              "      <th>101</th>\n",
              "      <td>Xavier</td>\n",
              "      <td>Mexico City</td>\n",
              "      <td>41</td>\n",
              "      <td>88.0</td>\n",
              "    </tr>\n",
              "    <tr>\n",
              "      <th>102</th>\n",
              "      <td>Ann</td>\n",
              "      <td>Toronto</td>\n",
              "      <td>28</td>\n",
              "      <td>79.0</td>\n",
              "    </tr>\n",
              "    <tr>\n",
              "      <th>103</th>\n",
              "      <td>Jana</td>\n",
              "      <td>Prague</td>\n",
              "      <td>33</td>\n",
              "      <td>81.0</td>\n",
              "    </tr>\n",
              "    <tr>\n",
              "      <th>104</th>\n",
              "      <td>Yi</td>\n",
              "      <td>Shanghai</td>\n",
              "      <td>34</td>\n",
              "      <td>80.0</td>\n",
              "    </tr>\n",
              "    <tr>\n",
              "      <th>105</th>\n",
              "      <td>Robin</td>\n",
              "      <td>Manchester</td>\n",
              "      <td>38</td>\n",
              "      <td>68.0</td>\n",
              "    </tr>\n",
              "    <tr>\n",
              "      <th>106</th>\n",
              "      <td>Amal</td>\n",
              "      <td>Cairo</td>\n",
              "      <td>31</td>\n",
              "      <td>61.0</td>\n",
              "    </tr>\n",
              "    <tr>\n",
              "      <th>107</th>\n",
              "      <td>Nori</td>\n",
              "      <td>Osaka</td>\n",
              "      <td>37</td>\n",
              "      <td>84.0</td>\n",
              "    </tr>\n",
              "    <tr>\n",
              "      <th>108</th>\n",
              "      <td>Tabajara</td>\n",
              "      <td>Rio</td>\n",
              "      <td>32</td>\n",
              "      <td>85.0</td>\n",
              "    </tr>\n",
              "  </tbody>\n",
              "</table>\n",
              "</div>"
            ],
            "text/plain": [
              "         name         city  age  py-score\n",
              "101    Xavier  Mexico City   41      88.0\n",
              "102       Ann      Toronto   28      79.0\n",
              "103      Jana       Prague   33      81.0\n",
              "104        Yi     Shanghai   34      80.0\n",
              "105     Robin   Manchester   38      68.0\n",
              "106      Amal        Cairo   31      61.0\n",
              "107      Nori        Osaka   37      84.0\n",
              "108  Tabajara          Rio   32      85.0"
            ]
          },
          "metadata": {},
          "execution_count": 60
        }
      ]
    },
    {
      "cell_type": "code",
      "metadata": {
        "colab": {
          "base_uri": "https://localhost:8080/",
          "height": 111
        },
        "id": "2BgjjL2YfAiD",
        "outputId": "5b271b9f-2513-4612-d89e-f829b2dfe63a"
      },
      "source": [
        "df.head(2)"
      ],
      "execution_count": null,
      "outputs": [
        {
          "output_type": "execute_result",
          "data": {
            "text/html": [
              "<div>\n",
              "<style scoped>\n",
              "    .dataframe tbody tr th:only-of-type {\n",
              "        vertical-align: middle;\n",
              "    }\n",
              "\n",
              "    .dataframe tbody tr th {\n",
              "        vertical-align: top;\n",
              "    }\n",
              "\n",
              "    .dataframe thead th {\n",
              "        text-align: right;\n",
              "    }\n",
              "</style>\n",
              "<table border=\"1\" class=\"dataframe\">\n",
              "  <thead>\n",
              "    <tr style=\"text-align: right;\">\n",
              "      <th></th>\n",
              "      <th>name</th>\n",
              "      <th>city</th>\n",
              "      <th>age</th>\n",
              "      <th>py-score</th>\n",
              "    </tr>\n",
              "  </thead>\n",
              "  <tbody>\n",
              "    <tr>\n",
              "      <th>101</th>\n",
              "      <td>Xavier</td>\n",
              "      <td>Mexico City</td>\n",
              "      <td>41</td>\n",
              "      <td>88.0</td>\n",
              "    </tr>\n",
              "    <tr>\n",
              "      <th>102</th>\n",
              "      <td>Ann</td>\n",
              "      <td>Toronto</td>\n",
              "      <td>28</td>\n",
              "      <td>79.0</td>\n",
              "    </tr>\n",
              "  </tbody>\n",
              "</table>\n",
              "</div>"
            ],
            "text/plain": [
              "       name         city  age  py-score\n",
              "101  Xavier  Mexico City   41      88.0\n",
              "102     Ann      Toronto   28      79.0"
            ]
          },
          "metadata": {},
          "execution_count": 63
        }
      ]
    },
    {
      "cell_type": "code",
      "metadata": {
        "colab": {
          "base_uri": "https://localhost:8080/",
          "height": 142
        },
        "id": "Li6kbTaFfEzP",
        "outputId": "9c975e93-fc2c-4857-e224-0710b6412b0a"
      },
      "source": [
        "df.tail(3)"
      ],
      "execution_count": null,
      "outputs": [
        {
          "output_type": "execute_result",
          "data": {
            "text/html": [
              "<div>\n",
              "<style scoped>\n",
              "    .dataframe tbody tr th:only-of-type {\n",
              "        vertical-align: middle;\n",
              "    }\n",
              "\n",
              "    .dataframe tbody tr th {\n",
              "        vertical-align: top;\n",
              "    }\n",
              "\n",
              "    .dataframe thead th {\n",
              "        text-align: right;\n",
              "    }\n",
              "</style>\n",
              "<table border=\"1\" class=\"dataframe\">\n",
              "  <thead>\n",
              "    <tr style=\"text-align: right;\">\n",
              "      <th></th>\n",
              "      <th>name</th>\n",
              "      <th>city</th>\n",
              "      <th>age</th>\n",
              "      <th>py-score</th>\n",
              "    </tr>\n",
              "  </thead>\n",
              "  <tbody>\n",
              "    <tr>\n",
              "      <th>106</th>\n",
              "      <td>Amal</td>\n",
              "      <td>Cairo</td>\n",
              "      <td>31</td>\n",
              "      <td>61.0</td>\n",
              "    </tr>\n",
              "    <tr>\n",
              "      <th>107</th>\n",
              "      <td>Nori</td>\n",
              "      <td>Osaka</td>\n",
              "      <td>37</td>\n",
              "      <td>84.0</td>\n",
              "    </tr>\n",
              "    <tr>\n",
              "      <th>108</th>\n",
              "      <td>Tabajara</td>\n",
              "      <td>Rio</td>\n",
              "      <td>32</td>\n",
              "      <td>85.0</td>\n",
              "    </tr>\n",
              "  </tbody>\n",
              "</table>\n",
              "</div>"
            ],
            "text/plain": [
              "         name   city  age  py-score\n",
              "106      Amal  Cairo   31      61.0\n",
              "107      Nori  Osaka   37      84.0\n",
              "108  Tabajara    Rio   32      85.0"
            ]
          },
          "metadata": {},
          "execution_count": 64
        }
      ]
    },
    {
      "cell_type": "code",
      "metadata": {
        "colab": {
          "base_uri": "https://localhost:8080/"
        },
        "id": "d61N0Cp-fJ0I",
        "outputId": "347d1257-5b68-4a65-cdf7-2c4b2f63f914"
      },
      "source": [
        "df.city"
      ],
      "execution_count": null,
      "outputs": [
        {
          "output_type": "execute_result",
          "data": {
            "text/plain": [
              "101    Mexico City\n",
              "102        Toronto\n",
              "103         Prague\n",
              "104       Shanghai\n",
              "105     Manchester\n",
              "106          Cairo\n",
              "107          Osaka\n",
              "108            Rio\n",
              "Name: city, dtype: object"
            ]
          },
          "metadata": {},
          "execution_count": 67
        }
      ]
    },
    {
      "cell_type": "code",
      "metadata": {
        "colab": {
          "base_uri": "https://localhost:8080/"
        },
        "id": "1wgp_eQBfb4A",
        "outputId": "2f84ea21-edbd-4a8b-9da0-f57b5f7890c5"
      },
      "source": [
        "cidades = df['city']\n",
        "cidades"
      ],
      "execution_count": null,
      "outputs": [
        {
          "output_type": "execute_result",
          "data": {
            "text/plain": [
              "101    Mexico City\n",
              "102        Toronto\n",
              "103         Prague\n",
              "104       Shanghai\n",
              "105     Manchester\n",
              "106          Cairo\n",
              "107          Osaka\n",
              "108            Rio\n",
              "Name: city, dtype: object"
            ]
          },
          "metadata": {},
          "execution_count": 68
        }
      ]
    },
    {
      "cell_type": "code",
      "metadata": {
        "colab": {
          "base_uri": "https://localhost:8080/",
          "height": 34
        },
        "id": "ADjto5SDfkQx",
        "outputId": "5bf9dba4-7fb6-4a00-cd13-8687f8c009f2"
      },
      "source": [
        "cidades[102]"
      ],
      "execution_count": null,
      "outputs": [
        {
          "output_type": "execute_result",
          "data": {
            "application/vnd.google.colaboratory.intrinsic+json": {
              "type": "string"
            },
            "text/plain": [
              "'Toronto'"
            ]
          },
          "metadata": {},
          "execution_count": 70
        }
      ]
    },
    {
      "cell_type": "code",
      "metadata": {
        "colab": {
          "base_uri": "https://localhost:8080/"
        },
        "id": "D5plYXXffvXA",
        "outputId": "6b1c5b6f-dc0e-481a-ccbf-8f0947f0be16"
      },
      "source": [
        "df.loc[103]"
      ],
      "execution_count": null,
      "outputs": [
        {
          "output_type": "execute_result",
          "data": {
            "text/plain": [
              "name          Jana\n",
              "city        Prague\n",
              "age             33\n",
              "py-score        81\n",
              "Name: 103, dtype: object"
            ]
          },
          "metadata": {},
          "execution_count": 71
        }
      ]
    },
    {
      "cell_type": "code",
      "metadata": {
        "colab": {
          "base_uri": "https://localhost:8080/"
        },
        "id": "MO1J7E-2gl1j",
        "outputId": "830f7226-8474-43d0-9c1c-ed4e416eecd4"
      },
      "source": [
        "df.index"
      ],
      "execution_count": null,
      "outputs": [
        {
          "output_type": "execute_result",
          "data": {
            "text/plain": [
              "Int64Index([101, 102, 103, 104, 105, 106, 107, 108], dtype='int64')"
            ]
          },
          "metadata": {},
          "execution_count": 72
        }
      ]
    },
    {
      "cell_type": "code",
      "metadata": {
        "colab": {
          "base_uri": "https://localhost:8080/",
          "height": 34
        },
        "id": "K3kirPtvgrjN",
        "outputId": "4069fc46-e244-4710-c55e-3cbbce228043"
      },
      "source": [
        "df.columns[1]"
      ],
      "execution_count": null,
      "outputs": [
        {
          "output_type": "execute_result",
          "data": {
            "application/vnd.google.colaboratory.intrinsic+json": {
              "type": "string"
            },
            "text/plain": [
              "'city'"
            ]
          },
          "metadata": {},
          "execution_count": 73
        }
      ]
    },
    {
      "cell_type": "code",
      "metadata": {
        "colab": {
          "base_uri": "https://localhost:8080/"
        },
        "id": "Dc8M8VPjgz0u",
        "outputId": "aee91f1e-c5a5-4907-e6a7-8eb1b58fa198"
      },
      "source": [
        "df.dtypes"
      ],
      "execution_count": null,
      "outputs": [
        {
          "output_type": "execute_result",
          "data": {
            "text/plain": [
              "name         object\n",
              "city         object\n",
              "age           int64\n",
              "py-score    float64\n",
              "dtype: object"
            ]
          },
          "metadata": {},
          "execution_count": 74
        }
      ]
    },
    {
      "cell_type": "code",
      "metadata": {
        "colab": {
          "base_uri": "https://localhost:8080/"
        },
        "id": "bcsdtaLBg5-B",
        "outputId": "aa8163c2-da6c-412c-f760-cbda57164410"
      },
      "source": [
        "df.ndim"
      ],
      "execution_count": null,
      "outputs": [
        {
          "output_type": "execute_result",
          "data": {
            "text/plain": [
              "2"
            ]
          },
          "metadata": {},
          "execution_count": 75
        }
      ]
    },
    {
      "cell_type": "code",
      "metadata": {
        "colab": {
          "base_uri": "https://localhost:8080/"
        },
        "id": "QSCryYpXhEY-",
        "outputId": "256e0c66-31cb-42be-a588-ce4de23d6490"
      },
      "source": [
        "df.shape"
      ],
      "execution_count": null,
      "outputs": [
        {
          "output_type": "execute_result",
          "data": {
            "text/plain": [
              "(8, 4)"
            ]
          },
          "metadata": {},
          "execution_count": 76
        }
      ]
    },
    {
      "cell_type": "code",
      "metadata": {
        "colab": {
          "base_uri": "https://localhost:8080/"
        },
        "id": "FBYkWcpuhLMN",
        "outputId": "c669b8dc-6fae-45d1-f896-75490e795f25"
      },
      "source": [
        "df['name']"
      ],
      "execution_count": null,
      "outputs": [
        {
          "output_type": "execute_result",
          "data": {
            "text/plain": [
              "101      Xavier\n",
              "102         Ann\n",
              "103        Jana\n",
              "104          Yi\n",
              "105       Robin\n",
              "106        Amal\n",
              "107        Nori\n",
              "108    Tabajara\n",
              "Name: name, dtype: object"
            ]
          },
          "metadata": {},
          "execution_count": 78
        }
      ]
    },
    {
      "cell_type": "code",
      "metadata": {
        "colab": {
          "base_uri": "https://localhost:8080/"
        },
        "id": "zvadm3VhhPSm",
        "outputId": "3d55a958-8fb3-47b3-eeca-3fbe810e3c77"
      },
      "source": [
        "df.loc[101]"
      ],
      "execution_count": null,
      "outputs": [
        {
          "output_type": "execute_result",
          "data": {
            "text/plain": [
              "name             Xavier\n",
              "city        Mexico City\n",
              "age                  41\n",
              "py-score             88\n",
              "Name: 101, dtype: object"
            ]
          },
          "metadata": {},
          "execution_count": 80
        }
      ]
    },
    {
      "cell_type": "code",
      "metadata": {
        "colab": {
          "base_uri": "https://localhost:8080/"
        },
        "id": "j7-UJDK6hlDz",
        "outputId": "3782ab52-492f-4ec6-fee5-cce7403a9946"
      },
      "source": [
        "df.iloc[0]"
      ],
      "execution_count": null,
      "outputs": [
        {
          "output_type": "execute_result",
          "data": {
            "text/plain": [
              "name             Xavier\n",
              "city        Mexico City\n",
              "age                  41\n",
              "py-score             88\n",
              "Name: 101, dtype: object"
            ]
          },
          "metadata": {},
          "execution_count": 82
        }
      ]
    },
    {
      "cell_type": "code",
      "metadata": {
        "colab": {
          "base_uri": "https://localhost:8080/"
        },
        "id": "2HIIn_nchyEv",
        "outputId": "c46dd903-77f0-49ea-affb-278939383202"
      },
      "source": [
        "df.loc[:,'py-score']"
      ],
      "execution_count": null,
      "outputs": [
        {
          "output_type": "execute_result",
          "data": {
            "text/plain": [
              "101    88.0\n",
              "102    79.0\n",
              "103    81.0\n",
              "104    80.0\n",
              "105    68.0\n",
              "106    61.0\n",
              "107    84.0\n",
              "108    85.0\n",
              "Name: py-score, dtype: float64"
            ]
          },
          "metadata": {},
          "execution_count": 87
        }
      ]
    },
    {
      "cell_type": "code",
      "metadata": {
        "colab": {
          "base_uri": "https://localhost:8080/"
        },
        "id": "Xi9KbNKUh4dJ",
        "outputId": "023e887f-3738-482d-b97f-07b3770f9181"
      },
      "source": [
        "df.loc[:,'age']"
      ],
      "execution_count": null,
      "outputs": [
        {
          "output_type": "execute_result",
          "data": {
            "text/plain": [
              "101    41\n",
              "102    28\n",
              "103    33\n",
              "104    34\n",
              "105    38\n",
              "106    31\n",
              "107    37\n",
              "108    32\n",
              "Name: age, dtype: int64"
            ]
          },
          "metadata": {},
          "execution_count": 86
        }
      ]
    },
    {
      "cell_type": "code",
      "metadata": {
        "id": "u3M8_HWfiPdg"
      },
      "source": [
        "Gisele = pd.Series(data=['Gisele','Brasília',54,79],index=df.columns, name=109)"
      ],
      "execution_count": null,
      "outputs": []
    },
    {
      "cell_type": "code",
      "metadata": {
        "colab": {
          "base_uri": "https://localhost:8080/",
          "height": 298
        },
        "id": "bvlzo_3pinC8",
        "outputId": "1638afec-49fc-4959-9679-91354c39c808"
      },
      "source": [
        "df"
      ],
      "execution_count": null,
      "outputs": [
        {
          "output_type": "execute_result",
          "data": {
            "text/html": [
              "<div>\n",
              "<style scoped>\n",
              "    .dataframe tbody tr th:only-of-type {\n",
              "        vertical-align: middle;\n",
              "    }\n",
              "\n",
              "    .dataframe tbody tr th {\n",
              "        vertical-align: top;\n",
              "    }\n",
              "\n",
              "    .dataframe thead th {\n",
              "        text-align: right;\n",
              "    }\n",
              "</style>\n",
              "<table border=\"1\" class=\"dataframe\">\n",
              "  <thead>\n",
              "    <tr style=\"text-align: right;\">\n",
              "      <th></th>\n",
              "      <th>name</th>\n",
              "      <th>city</th>\n",
              "      <th>age</th>\n",
              "      <th>py-score</th>\n",
              "    </tr>\n",
              "  </thead>\n",
              "  <tbody>\n",
              "    <tr>\n",
              "      <th>101</th>\n",
              "      <td>Xavier</td>\n",
              "      <td>Mexico City</td>\n",
              "      <td>41</td>\n",
              "      <td>88.0</td>\n",
              "    </tr>\n",
              "    <tr>\n",
              "      <th>102</th>\n",
              "      <td>Ann</td>\n",
              "      <td>Toronto</td>\n",
              "      <td>28</td>\n",
              "      <td>79.0</td>\n",
              "    </tr>\n",
              "    <tr>\n",
              "      <th>103</th>\n",
              "      <td>Jana</td>\n",
              "      <td>Prague</td>\n",
              "      <td>33</td>\n",
              "      <td>81.0</td>\n",
              "    </tr>\n",
              "    <tr>\n",
              "      <th>104</th>\n",
              "      <td>Yi</td>\n",
              "      <td>Shanghai</td>\n",
              "      <td>34</td>\n",
              "      <td>80.0</td>\n",
              "    </tr>\n",
              "    <tr>\n",
              "      <th>105</th>\n",
              "      <td>Robin</td>\n",
              "      <td>Manchester</td>\n",
              "      <td>38</td>\n",
              "      <td>68.0</td>\n",
              "    </tr>\n",
              "    <tr>\n",
              "      <th>106</th>\n",
              "      <td>Amal</td>\n",
              "      <td>Cairo</td>\n",
              "      <td>31</td>\n",
              "      <td>61.0</td>\n",
              "    </tr>\n",
              "    <tr>\n",
              "      <th>107</th>\n",
              "      <td>Nori</td>\n",
              "      <td>Osaka</td>\n",
              "      <td>37</td>\n",
              "      <td>84.0</td>\n",
              "    </tr>\n",
              "    <tr>\n",
              "      <th>108</th>\n",
              "      <td>Tabajara</td>\n",
              "      <td>Rio</td>\n",
              "      <td>32</td>\n",
              "      <td>85.0</td>\n",
              "    </tr>\n",
              "  </tbody>\n",
              "</table>\n",
              "</div>"
            ],
            "text/plain": [
              "         name         city  age  py-score\n",
              "101    Xavier  Mexico City   41      88.0\n",
              "102       Ann      Toronto   28      79.0\n",
              "103      Jana       Prague   33      81.0\n",
              "104        Yi     Shanghai   34      80.0\n",
              "105     Robin   Manchester   38      68.0\n",
              "106      Amal        Cairo   31      61.0\n",
              "107      Nori        Osaka   37      84.0\n",
              "108  Tabajara          Rio   32      85.0"
            ]
          },
          "metadata": {},
          "execution_count": 94
        }
      ]
    },
    {
      "cell_type": "code",
      "metadata": {
        "colab": {
          "base_uri": "https://localhost:8080/",
          "height": 329
        },
        "id": "c-zR-PvBjIlF",
        "outputId": "f0213f87-9ecf-471e-8753-c76a2969e4b3"
      },
      "source": [
        "df = df.append(Gisele)\n",
        "df"
      ],
      "execution_count": null,
      "outputs": [
        {
          "output_type": "execute_result",
          "data": {
            "text/html": [
              "<div>\n",
              "<style scoped>\n",
              "    .dataframe tbody tr th:only-of-type {\n",
              "        vertical-align: middle;\n",
              "    }\n",
              "\n",
              "    .dataframe tbody tr th {\n",
              "        vertical-align: top;\n",
              "    }\n",
              "\n",
              "    .dataframe thead th {\n",
              "        text-align: right;\n",
              "    }\n",
              "</style>\n",
              "<table border=\"1\" class=\"dataframe\">\n",
              "  <thead>\n",
              "    <tr style=\"text-align: right;\">\n",
              "      <th></th>\n",
              "      <th>name</th>\n",
              "      <th>city</th>\n",
              "      <th>age</th>\n",
              "      <th>py-score</th>\n",
              "    </tr>\n",
              "  </thead>\n",
              "  <tbody>\n",
              "    <tr>\n",
              "      <th>101</th>\n",
              "      <td>Xavier</td>\n",
              "      <td>Mexico City</td>\n",
              "      <td>41</td>\n",
              "      <td>88.0</td>\n",
              "    </tr>\n",
              "    <tr>\n",
              "      <th>102</th>\n",
              "      <td>Ann</td>\n",
              "      <td>Toronto</td>\n",
              "      <td>28</td>\n",
              "      <td>79.0</td>\n",
              "    </tr>\n",
              "    <tr>\n",
              "      <th>103</th>\n",
              "      <td>Jana</td>\n",
              "      <td>Prague</td>\n",
              "      <td>33</td>\n",
              "      <td>81.0</td>\n",
              "    </tr>\n",
              "    <tr>\n",
              "      <th>104</th>\n",
              "      <td>Yi</td>\n",
              "      <td>Shanghai</td>\n",
              "      <td>34</td>\n",
              "      <td>80.0</td>\n",
              "    </tr>\n",
              "    <tr>\n",
              "      <th>105</th>\n",
              "      <td>Robin</td>\n",
              "      <td>Manchester</td>\n",
              "      <td>38</td>\n",
              "      <td>68.0</td>\n",
              "    </tr>\n",
              "    <tr>\n",
              "      <th>106</th>\n",
              "      <td>Amal</td>\n",
              "      <td>Cairo</td>\n",
              "      <td>31</td>\n",
              "      <td>61.0</td>\n",
              "    </tr>\n",
              "    <tr>\n",
              "      <th>107</th>\n",
              "      <td>Nori</td>\n",
              "      <td>Osaka</td>\n",
              "      <td>37</td>\n",
              "      <td>84.0</td>\n",
              "    </tr>\n",
              "    <tr>\n",
              "      <th>108</th>\n",
              "      <td>Tabajara</td>\n",
              "      <td>Rio</td>\n",
              "      <td>32</td>\n",
              "      <td>85.0</td>\n",
              "    </tr>\n",
              "    <tr>\n",
              "      <th>109</th>\n",
              "      <td>Gisele</td>\n",
              "      <td>Brasília</td>\n",
              "      <td>54</td>\n",
              "      <td>79.0</td>\n",
              "    </tr>\n",
              "  </tbody>\n",
              "</table>\n",
              "</div>"
            ],
            "text/plain": [
              "         name         city  age  py-score\n",
              "101    Xavier  Mexico City   41      88.0\n",
              "102       Ann      Toronto   28      79.0\n",
              "103      Jana       Prague   33      81.0\n",
              "104        Yi     Shanghai   34      80.0\n",
              "105     Robin   Manchester   38      68.0\n",
              "106      Amal        Cairo   31      61.0\n",
              "107      Nori        Osaka   37      84.0\n",
              "108  Tabajara          Rio   32      85.0\n",
              "109    Gisele     Brasília   54      79.0"
            ]
          },
          "metadata": {},
          "execution_count": 99
        }
      ]
    },
    {
      "cell_type": "code",
      "metadata": {
        "colab": {
          "base_uri": "https://localhost:8080/",
          "height": 329
        },
        "id": "XfkHthJoj5FL",
        "outputId": "aca7f01b-bc40-4c00-bf1a-8ba6a31b90a5"
      },
      "source": [
        "import numpy as np\n",
        "df['r-score'] = np.array([71.0,95.0,88.0,79.0,91.0,91.0,80.0,70.0,50.0])\n",
        "df"
      ],
      "execution_count": null,
      "outputs": [
        {
          "output_type": "execute_result",
          "data": {
            "text/html": [
              "<div>\n",
              "<style scoped>\n",
              "    .dataframe tbody tr th:only-of-type {\n",
              "        vertical-align: middle;\n",
              "    }\n",
              "\n",
              "    .dataframe tbody tr th {\n",
              "        vertical-align: top;\n",
              "    }\n",
              "\n",
              "    .dataframe thead th {\n",
              "        text-align: right;\n",
              "    }\n",
              "</style>\n",
              "<table border=\"1\" class=\"dataframe\">\n",
              "  <thead>\n",
              "    <tr style=\"text-align: right;\">\n",
              "      <th></th>\n",
              "      <th>name</th>\n",
              "      <th>city</th>\n",
              "      <th>age</th>\n",
              "      <th>py-score</th>\n",
              "      <th>r-score</th>\n",
              "    </tr>\n",
              "  </thead>\n",
              "  <tbody>\n",
              "    <tr>\n",
              "      <th>101</th>\n",
              "      <td>Xavier</td>\n",
              "      <td>Mexico City</td>\n",
              "      <td>41</td>\n",
              "      <td>88.0</td>\n",
              "      <td>71.0</td>\n",
              "    </tr>\n",
              "    <tr>\n",
              "      <th>102</th>\n",
              "      <td>Ann</td>\n",
              "      <td>Toronto</td>\n",
              "      <td>28</td>\n",
              "      <td>79.0</td>\n",
              "      <td>95.0</td>\n",
              "    </tr>\n",
              "    <tr>\n",
              "      <th>103</th>\n",
              "      <td>Jana</td>\n",
              "      <td>Prague</td>\n",
              "      <td>33</td>\n",
              "      <td>81.0</td>\n",
              "      <td>88.0</td>\n",
              "    </tr>\n",
              "    <tr>\n",
              "      <th>104</th>\n",
              "      <td>Yi</td>\n",
              "      <td>Shanghai</td>\n",
              "      <td>34</td>\n",
              "      <td>80.0</td>\n",
              "      <td>79.0</td>\n",
              "    </tr>\n",
              "    <tr>\n",
              "      <th>105</th>\n",
              "      <td>Robin</td>\n",
              "      <td>Manchester</td>\n",
              "      <td>38</td>\n",
              "      <td>68.0</td>\n",
              "      <td>91.0</td>\n",
              "    </tr>\n",
              "    <tr>\n",
              "      <th>106</th>\n",
              "      <td>Amal</td>\n",
              "      <td>Cairo</td>\n",
              "      <td>31</td>\n",
              "      <td>61.0</td>\n",
              "      <td>91.0</td>\n",
              "    </tr>\n",
              "    <tr>\n",
              "      <th>107</th>\n",
              "      <td>Nori</td>\n",
              "      <td>Osaka</td>\n",
              "      <td>37</td>\n",
              "      <td>84.0</td>\n",
              "      <td>80.0</td>\n",
              "    </tr>\n",
              "    <tr>\n",
              "      <th>108</th>\n",
              "      <td>Tabajara</td>\n",
              "      <td>Rio</td>\n",
              "      <td>32</td>\n",
              "      <td>85.0</td>\n",
              "      <td>70.0</td>\n",
              "    </tr>\n",
              "    <tr>\n",
              "      <th>109</th>\n",
              "      <td>Gisele</td>\n",
              "      <td>Brasília</td>\n",
              "      <td>54</td>\n",
              "      <td>79.0</td>\n",
              "      <td>50.0</td>\n",
              "    </tr>\n",
              "  </tbody>\n",
              "</table>\n",
              "</div>"
            ],
            "text/plain": [
              "         name         city  age  py-score  r-score\n",
              "101    Xavier  Mexico City   41      88.0     71.0\n",
              "102       Ann      Toronto   28      79.0     95.0\n",
              "103      Jana       Prague   33      81.0     88.0\n",
              "104        Yi     Shanghai   34      80.0     79.0\n",
              "105     Robin   Manchester   38      68.0     91.0\n",
              "106      Amal        Cairo   31      61.0     91.0\n",
              "107      Nori        Osaka   37      84.0     80.0\n",
              "108  Tabajara          Rio   32      85.0     70.0\n",
              "109    Gisele     Brasília   54      79.0     50.0"
            ]
          },
          "metadata": {},
          "execution_count": 102
        }
      ]
    },
    {
      "cell_type": "code",
      "metadata": {
        "colab": {
          "base_uri": "https://localhost:8080/",
          "height": 329
        },
        "id": "9BnCxtR2krTj",
        "outputId": "badce3db-7e65-403b-bf8c-a9a54ac3c68d"
      },
      "source": [
        "df['total-score'] = 0.6*df['py-score']+0.4*df['r-score']\n",
        "df"
      ],
      "execution_count": null,
      "outputs": [
        {
          "output_type": "execute_result",
          "data": {
            "text/html": [
              "<div>\n",
              "<style scoped>\n",
              "    .dataframe tbody tr th:only-of-type {\n",
              "        vertical-align: middle;\n",
              "    }\n",
              "\n",
              "    .dataframe tbody tr th {\n",
              "        vertical-align: top;\n",
              "    }\n",
              "\n",
              "    .dataframe thead th {\n",
              "        text-align: right;\n",
              "    }\n",
              "</style>\n",
              "<table border=\"1\" class=\"dataframe\">\n",
              "  <thead>\n",
              "    <tr style=\"text-align: right;\">\n",
              "      <th></th>\n",
              "      <th>name</th>\n",
              "      <th>city</th>\n",
              "      <th>age</th>\n",
              "      <th>py-score</th>\n",
              "      <th>r-score</th>\n",
              "      <th>total-score</th>\n",
              "    </tr>\n",
              "  </thead>\n",
              "  <tbody>\n",
              "    <tr>\n",
              "      <th>101</th>\n",
              "      <td>Xavier</td>\n",
              "      <td>Mexico City</td>\n",
              "      <td>41</td>\n",
              "      <td>88.0</td>\n",
              "      <td>71.0</td>\n",
              "      <td>81.2</td>\n",
              "    </tr>\n",
              "    <tr>\n",
              "      <th>102</th>\n",
              "      <td>Ann</td>\n",
              "      <td>Toronto</td>\n",
              "      <td>28</td>\n",
              "      <td>79.0</td>\n",
              "      <td>95.0</td>\n",
              "      <td>85.4</td>\n",
              "    </tr>\n",
              "    <tr>\n",
              "      <th>103</th>\n",
              "      <td>Jana</td>\n",
              "      <td>Prague</td>\n",
              "      <td>33</td>\n",
              "      <td>81.0</td>\n",
              "      <td>88.0</td>\n",
              "      <td>83.8</td>\n",
              "    </tr>\n",
              "    <tr>\n",
              "      <th>104</th>\n",
              "      <td>Yi</td>\n",
              "      <td>Shanghai</td>\n",
              "      <td>34</td>\n",
              "      <td>80.0</td>\n",
              "      <td>79.0</td>\n",
              "      <td>79.6</td>\n",
              "    </tr>\n",
              "    <tr>\n",
              "      <th>105</th>\n",
              "      <td>Robin</td>\n",
              "      <td>Manchester</td>\n",
              "      <td>38</td>\n",
              "      <td>68.0</td>\n",
              "      <td>91.0</td>\n",
              "      <td>77.2</td>\n",
              "    </tr>\n",
              "    <tr>\n",
              "      <th>106</th>\n",
              "      <td>Amal</td>\n",
              "      <td>Cairo</td>\n",
              "      <td>31</td>\n",
              "      <td>61.0</td>\n",
              "      <td>91.0</td>\n",
              "      <td>73.0</td>\n",
              "    </tr>\n",
              "    <tr>\n",
              "      <th>107</th>\n",
              "      <td>Nori</td>\n",
              "      <td>Osaka</td>\n",
              "      <td>37</td>\n",
              "      <td>84.0</td>\n",
              "      <td>80.0</td>\n",
              "      <td>82.4</td>\n",
              "    </tr>\n",
              "    <tr>\n",
              "      <th>108</th>\n",
              "      <td>Tabajara</td>\n",
              "      <td>Rio</td>\n",
              "      <td>32</td>\n",
              "      <td>85.0</td>\n",
              "      <td>70.0</td>\n",
              "      <td>79.0</td>\n",
              "    </tr>\n",
              "    <tr>\n",
              "      <th>109</th>\n",
              "      <td>Gisele</td>\n",
              "      <td>Brasília</td>\n",
              "      <td>54</td>\n",
              "      <td>79.0</td>\n",
              "      <td>50.0</td>\n",
              "      <td>67.4</td>\n",
              "    </tr>\n",
              "  </tbody>\n",
              "</table>\n",
              "</div>"
            ],
            "text/plain": [
              "         name         city  age  py-score  r-score  total-score\n",
              "101    Xavier  Mexico City   41      88.0     71.0         81.2\n",
              "102       Ann      Toronto   28      79.0     95.0         85.4\n",
              "103      Jana       Prague   33      81.0     88.0         83.8\n",
              "104        Yi     Shanghai   34      80.0     79.0         79.6\n",
              "105     Robin   Manchester   38      68.0     91.0         77.2\n",
              "106      Amal        Cairo   31      61.0     91.0         73.0\n",
              "107      Nori        Osaka   37      84.0     80.0         82.4\n",
              "108  Tabajara          Rio   32      85.0     70.0         79.0\n",
              "109    Gisele     Brasília   54      79.0     50.0         67.4"
            ]
          },
          "metadata": {},
          "execution_count": 103
        }
      ]
    },
    {
      "cell_type": "code",
      "metadata": {
        "colab": {
          "base_uri": "https://localhost:8080/",
          "height": 329
        },
        "id": "EUcs5_Ubk6mR",
        "outputId": "714dbc8d-9e9f-433c-8118-855bb6a85a64"
      },
      "source": [
        "df.sort_values(by=['total-score','py-score'], ascending=[False,False])"
      ],
      "execution_count": null,
      "outputs": [
        {
          "output_type": "execute_result",
          "data": {
            "text/html": [
              "<div>\n",
              "<style scoped>\n",
              "    .dataframe tbody tr th:only-of-type {\n",
              "        vertical-align: middle;\n",
              "    }\n",
              "\n",
              "    .dataframe tbody tr th {\n",
              "        vertical-align: top;\n",
              "    }\n",
              "\n",
              "    .dataframe thead th {\n",
              "        text-align: right;\n",
              "    }\n",
              "</style>\n",
              "<table border=\"1\" class=\"dataframe\">\n",
              "  <thead>\n",
              "    <tr style=\"text-align: right;\">\n",
              "      <th></th>\n",
              "      <th>name</th>\n",
              "      <th>city</th>\n",
              "      <th>age</th>\n",
              "      <th>py-score</th>\n",
              "      <th>r-score</th>\n",
              "      <th>total-score</th>\n",
              "    </tr>\n",
              "  </thead>\n",
              "  <tbody>\n",
              "    <tr>\n",
              "      <th>102</th>\n",
              "      <td>Ann</td>\n",
              "      <td>Toronto</td>\n",
              "      <td>28</td>\n",
              "      <td>79.0</td>\n",
              "      <td>95.0</td>\n",
              "      <td>85.4</td>\n",
              "    </tr>\n",
              "    <tr>\n",
              "      <th>103</th>\n",
              "      <td>Jana</td>\n",
              "      <td>Prague</td>\n",
              "      <td>33</td>\n",
              "      <td>81.0</td>\n",
              "      <td>88.0</td>\n",
              "      <td>83.8</td>\n",
              "    </tr>\n",
              "    <tr>\n",
              "      <th>107</th>\n",
              "      <td>Nori</td>\n",
              "      <td>Osaka</td>\n",
              "      <td>37</td>\n",
              "      <td>84.0</td>\n",
              "      <td>80.0</td>\n",
              "      <td>82.4</td>\n",
              "    </tr>\n",
              "    <tr>\n",
              "      <th>101</th>\n",
              "      <td>Xavier</td>\n",
              "      <td>Mexico City</td>\n",
              "      <td>41</td>\n",
              "      <td>88.0</td>\n",
              "      <td>71.0</td>\n",
              "      <td>81.2</td>\n",
              "    </tr>\n",
              "    <tr>\n",
              "      <th>104</th>\n",
              "      <td>Yi</td>\n",
              "      <td>Shanghai</td>\n",
              "      <td>34</td>\n",
              "      <td>80.0</td>\n",
              "      <td>79.0</td>\n",
              "      <td>79.6</td>\n",
              "    </tr>\n",
              "    <tr>\n",
              "      <th>108</th>\n",
              "      <td>Tabajara</td>\n",
              "      <td>Rio</td>\n",
              "      <td>32</td>\n",
              "      <td>85.0</td>\n",
              "      <td>70.0</td>\n",
              "      <td>79.0</td>\n",
              "    </tr>\n",
              "    <tr>\n",
              "      <th>105</th>\n",
              "      <td>Robin</td>\n",
              "      <td>Manchester</td>\n",
              "      <td>38</td>\n",
              "      <td>68.0</td>\n",
              "      <td>91.0</td>\n",
              "      <td>77.2</td>\n",
              "    </tr>\n",
              "    <tr>\n",
              "      <th>106</th>\n",
              "      <td>Amal</td>\n",
              "      <td>Cairo</td>\n",
              "      <td>31</td>\n",
              "      <td>61.0</td>\n",
              "      <td>91.0</td>\n",
              "      <td>73.0</td>\n",
              "    </tr>\n",
              "    <tr>\n",
              "      <th>109</th>\n",
              "      <td>Gisele</td>\n",
              "      <td>Brasília</td>\n",
              "      <td>54</td>\n",
              "      <td>79.0</td>\n",
              "      <td>50.0</td>\n",
              "      <td>67.4</td>\n",
              "    </tr>\n",
              "  </tbody>\n",
              "</table>\n",
              "</div>"
            ],
            "text/plain": [
              "         name         city  age  py-score  r-score  total-score\n",
              "102       Ann      Toronto   28      79.0     95.0         85.4\n",
              "103      Jana       Prague   33      81.0     88.0         83.8\n",
              "107      Nori        Osaka   37      84.0     80.0         82.4\n",
              "101    Xavier  Mexico City   41      88.0     71.0         81.2\n",
              "104        Yi     Shanghai   34      80.0     79.0         79.6\n",
              "108  Tabajara          Rio   32      85.0     70.0         79.0\n",
              "105     Robin   Manchester   38      68.0     91.0         77.2\n",
              "106      Amal        Cairo   31      61.0     91.0         73.0\n",
              "109    Gisele     Brasília   54      79.0     50.0         67.4"
            ]
          },
          "metadata": {},
          "execution_count": 105
        }
      ]
    },
    {
      "cell_type": "code",
      "metadata": {
        "colab": {
          "base_uri": "https://localhost:8080/"
        },
        "id": "FieTLJFWl3g_",
        "outputId": "9f1944ec-0a7a-42ca-a714-80fc0e9eeec1"
      },
      "source": [
        "selecao = df['total-score'] > 80\n",
        "selecao"
      ],
      "execution_count": null,
      "outputs": [
        {
          "output_type": "execute_result",
          "data": {
            "text/plain": [
              "101     True\n",
              "102     True\n",
              "103     True\n",
              "104    False\n",
              "105    False\n",
              "106    False\n",
              "107     True\n",
              "108    False\n",
              "109    False\n",
              "Name: total-score, dtype: bool"
            ]
          },
          "metadata": {},
          "execution_count": 107
        }
      ]
    },
    {
      "cell_type": "code",
      "metadata": {
        "colab": {
          "base_uri": "https://localhost:8080/",
          "height": 173
        },
        "id": "zicVY8-ImHui",
        "outputId": "817350e2-1d4d-4405-c71d-b26781a697f7"
      },
      "source": [
        "df[selecao]"
      ],
      "execution_count": null,
      "outputs": [
        {
          "output_type": "execute_result",
          "data": {
            "text/html": [
              "<div>\n",
              "<style scoped>\n",
              "    .dataframe tbody tr th:only-of-type {\n",
              "        vertical-align: middle;\n",
              "    }\n",
              "\n",
              "    .dataframe tbody tr th {\n",
              "        vertical-align: top;\n",
              "    }\n",
              "\n",
              "    .dataframe thead th {\n",
              "        text-align: right;\n",
              "    }\n",
              "</style>\n",
              "<table border=\"1\" class=\"dataframe\">\n",
              "  <thead>\n",
              "    <tr style=\"text-align: right;\">\n",
              "      <th></th>\n",
              "      <th>name</th>\n",
              "      <th>city</th>\n",
              "      <th>age</th>\n",
              "      <th>py-score</th>\n",
              "      <th>r-score</th>\n",
              "      <th>total-score</th>\n",
              "    </tr>\n",
              "  </thead>\n",
              "  <tbody>\n",
              "    <tr>\n",
              "      <th>101</th>\n",
              "      <td>Xavier</td>\n",
              "      <td>Mexico City</td>\n",
              "      <td>41</td>\n",
              "      <td>88.0</td>\n",
              "      <td>71.0</td>\n",
              "      <td>81.2</td>\n",
              "    </tr>\n",
              "    <tr>\n",
              "      <th>102</th>\n",
              "      <td>Ann</td>\n",
              "      <td>Toronto</td>\n",
              "      <td>28</td>\n",
              "      <td>79.0</td>\n",
              "      <td>95.0</td>\n",
              "      <td>85.4</td>\n",
              "    </tr>\n",
              "    <tr>\n",
              "      <th>103</th>\n",
              "      <td>Jana</td>\n",
              "      <td>Prague</td>\n",
              "      <td>33</td>\n",
              "      <td>81.0</td>\n",
              "      <td>88.0</td>\n",
              "      <td>83.8</td>\n",
              "    </tr>\n",
              "    <tr>\n",
              "      <th>107</th>\n",
              "      <td>Nori</td>\n",
              "      <td>Osaka</td>\n",
              "      <td>37</td>\n",
              "      <td>84.0</td>\n",
              "      <td>80.0</td>\n",
              "      <td>82.4</td>\n",
              "    </tr>\n",
              "  </tbody>\n",
              "</table>\n",
              "</div>"
            ],
            "text/plain": [
              "       name         city  age  py-score  r-score  total-score\n",
              "101  Xavier  Mexico City   41      88.0     71.0         81.2\n",
              "102     Ann      Toronto   28      79.0     95.0         85.4\n",
              "103    Jana       Prague   33      81.0     88.0         83.8\n",
              "107    Nori        Osaka   37      84.0     80.0         82.4"
            ]
          },
          "metadata": {},
          "execution_count": 108
        }
      ]
    },
    {
      "cell_type": "code",
      "metadata": {
        "colab": {
          "base_uri": "https://localhost:8080/",
          "height": 265
        },
        "id": "3WJBiEyqme7I",
        "outputId": "ef42ee32-37e6-4d3d-f5ca-0e5e5b869137"
      },
      "source": [
        "import matplotlib.pyplot as plt\n",
        "df.loc[:,['py-score','r-score']].plot.hist(bins=5,alpha=0.4)\n",
        "plt.show()"
      ],
      "execution_count": null,
      "outputs": [
        {
          "output_type": "display_data",
          "data": {
            "image/png": "[encoded data removed]",
            "text/plain": [
              "<Figure size 432x288 with 1 Axes>"
            ]
          },
          "metadata": {
            "needs_background": "light"
          }
        }
      ]
    },
    {
      "cell_type": "code",
      "metadata": {
        "colab": {
          "base_uri": "https://localhost:8080/",
          "height": 265
        },
        "id": "Rzu2lrAPnZF9",
        "outputId": "37b52d3c-ba48-48a4-e20d-65de3b8e6de9"
      },
      "source": [
        "df.loc[:,['py-score','r-score']].plot.line()\n",
        "plt.show()"
      ],
      "execution_count": null,
      "outputs": [
        {
          "output_type": "display_data",
          "data": {
            "image/png": "[encoded data removed]",
            "text/plain": [
              "<Figure size 432x288 with 1 Axes>"
            ]
          },
          "metadata": {
            "needs_background": "light"
          }
        }
      ]
    }
  ]
}